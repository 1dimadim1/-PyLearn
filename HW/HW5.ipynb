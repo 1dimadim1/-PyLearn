{
 "cells": [
  {
   "cell_type": "markdown",
   "id": "a843be60",
   "metadata": {},
   "source": [
    "Задача 1. Напишите программу с классом Student, в котором есть три атрибута: name, groupNumber и age. По умолчанию name = Ivan, age = 18, groupNumber = 10A. Необходимо создать пять методов: getName, getAge, getGroupNumber, setNameAge, setGroupNumber. Метод getName нужен для получения данных об имени конкретного студента, метод getAge нужен для получения данных о возрасте конкретного студента, vетод setGroupNumberнужен для получения данных о номере группы конкретного студента. Метод SetNameAge позволяет изменить данные атрибутов установленных по умолчанию, метод setGroupNumber позволяет изменить номер группы установленный по умолчанию. В программе необходимо создать пять экземпляров класса Student, установить им разные имена, возраст и номер группы."
   ]
  },
  {
   "cell_type": "code",
   "execution_count": 21,
   "id": "14b18758",
   "metadata": {},
   "outputs": [
    {
     "name": "stdout",
     "output_type": "stream",
     "text": [
      "18, Henry, 10A \n",
      " 17, Lev, 9A \n",
      " 16, Dima, 8A \n",
      " 15, Liza, 7A \n",
      " 14, Olya, 6A\n"
     ]
    }
   ],
   "source": [
    "class Student:\n",
    "    \n",
    "    def __init__(self, name = 'Ivan', groupNumber = '10A', age = 18):\n",
    "        self.name = name\n",
    "        self.groupNumber = groupNumber\n",
    "        self.age = age\n",
    "    \n",
    "    def getAge(self):\n",
    "        return self.age\n",
    "    def getName(self):\n",
    "        return self.name\n",
    "    def getGroupNumber(self):\n",
    "        return self.groupNumber\n",
    "    def setNameAge(self, name, age = -1):\n",
    "        self.name = name\n",
    "        if age > 0:\n",
    "            self.age = age            \n",
    "    def setGroupNumber(self, groupNumber):\n",
    "        self.groupNumber = groupNumber\n",
    "    def __str__(self):\n",
    "        return f\"{self.age}, {self.name}, {self.groupNumber}\"\n",
    "    \n",
    "students=[Student(), Student(\"Lev\", \"9A\", 17), Student(\"Dima\", \"8A\", 16), Student(\"Liza\", \"7A\", 15), Student(\"Olya\", \"6A\", 14)]\n",
    "students[0].setNameAge(\"Henry\")\n",
    "print(students[0],'\\n',students[1],'\\n',students[2],'\\n',students[3],'\\n',students[4])"
   ]
  },
  {
   "cell_type": "markdown",
   "id": "b905da3b",
   "metadata": {},
   "source": [
    "Задача 2. Напишите программу с классом Car. Создайте конструктор класса Car. Создайте атрибуты класса Car — color (цвет), type (тип), year (год). Напишите пять методов. Первый — запуск автомобиля, при его вызове выводится сообщение «Автомобиль заведен». Второй — отключение автомобиля — выводит сообщение «Автомобиль заглушен». Третий — присвоение автомобилю года выпуска. Четвертый метод — присвоение автомобилю типа. Пятый — присвоение автомобилю цвета."
   ]
  },
  {
   "cell_type": "code",
   "execution_count": 26,
   "id": "1b907706",
   "metadata": {},
   "outputs": [
    {
     "name": "stdout",
     "output_type": "stream",
     "text": [
      "Автомобиль заведен\n",
      "white 1998\n",
      "Автомобиль заглушен\n"
     ]
    }
   ],
   "source": [
    "class Car:\n",
    "    \n",
    "    def __init__(self, color_ = 'white', type_ = 'cadilac', year_ = 0):\n",
    "        self.color = color_\n",
    "        self.type = type_\n",
    "        self.year = year_\n",
    "    def turnOn(self):\n",
    "        print(\"Автомобиль заведен\")\n",
    "    def turnOff(self):\n",
    "        print(\"Автомобиль заглушен\")\n",
    "    def setColor(self, color_):\n",
    "        self.color = color_\n",
    "    def setType(self, type_):\n",
    "        self.type = type_\n",
    "    def setYear(self, year_):\n",
    "        self.year = year_\n",
    "        \n",
    "car=Car()\n",
    "car.setYear(1998)\n",
    "car.turnOn()\n",
    "print(car.color, car.year)\n",
    "car.turnOff()\n"
   ]
  },
  {
   "cell_type": "markdown",
   "id": "cf972c49",
   "metadata": {},
   "source": [
    "Задача 3. Допишите функцию Nutrionm"
   ]
  },
  {
   "cell_type": "code",
   "execution_count": 9,
   "id": "3949628c",
   "metadata": {},
   "outputs": [
    {
     "name": "stdout",
     "output_type": "stream",
     "text": [
      "I'm fine\n"
     ]
    }
   ],
   "source": [
    "class NutritionInfo:\n",
    "    def __init__(self, proteins, carbs, fats):\n",
    "        self.proteins = proteins\n",
    "        self.carbs = carbs\n",
    "        self.fats = fats\n",
    "    \n",
    "    def __add__(self, other):\n",
    "        return NutritionInfo(self.proteins + other.proteins, self.carbs + other.carbs, self.fats + other.fats)\n",
    "    \n",
    "    def __str__(self):\n",
    "        return f\"Nutrition p {self.proteins}, c {self.carbs}, f {self.fats}\"\n",
    "    \n",
    "    def __mul__(self, other):\n",
    "        if type(other) == NutritionInfo:\n",
    "            return NutritionInfo(self.proteins * other.proteins, self.carbs * other.carbs, self.fats * other.fats)\n",
    "        elif type(other) == int:\n",
    "            return NutritionInfo(self.proteins * other, self.carbs * other, self.fats * other)\n",
    "        elif type(other) == float:\n",
    "            return NutritionInfo(self.proteins * other, self.carbs * other, self.fats * other)\n",
    "        else:\n",
    "            raise(\"Oops! Wrong type in multiplication of products\")\n",
    "    def energy(self):\n",
    "        return int(self.fats * 9 + (self.carbs + self.proteins) * 4.2)\n",
    "\n",
    "apple = NutritionInfo(0.3,14,0.2)\n",
    "if (apple+apple+apple).energy()== (apple*3).energy():\n",
    "    print(\"I'm fine\")\n",
    "else:\n",
    "    print(\"something wrong\")"
   ]
  }
 ],
 "metadata": {
  "kernelspec": {
   "display_name": "Python 3 (ipykernel)",
   "language": "python",
   "name": "python3"
  },
  "language_info": {
   "codemirror_mode": {
    "name": "ipython",
    "version": 3
   },
   "file_extension": ".py",
   "mimetype": "text/x-python",
   "name": "python",
   "nbconvert_exporter": "python",
   "pygments_lexer": "ipython3",
   "version": "3.7.8"
  }
 },
 "nbformat": 4,
 "nbformat_minor": 5
}
