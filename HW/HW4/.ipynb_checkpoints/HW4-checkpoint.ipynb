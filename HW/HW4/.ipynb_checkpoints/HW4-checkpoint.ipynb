{
 "cells": [
  {
   "cell_type": "markdown",
   "id": "02be760c",
   "metadata": {},
   "source": [
    "1) Средний бал и список отстающих учеников"
   ]
  },
  {
   "cell_type": "code",
   "execution_count": 1,
   "id": "e538d213",
   "metadata": {},
   "outputs": [
    {
     "name": "stdout",
     "output_type": "stream",
     "text": [
      "Средняя оценка учеников: 3.230769230769231\n",
      "Процентиль 25 процентов: 2.0\n",
      "Отстающие по предмету (четверть худших по успеваемости учеников):\n",
      "Дмитриев Н. \n",
      "Котов Д. \n",
      "Бирюкова Н. \n",
      "Лемонов Ю. \n"
     ]
    }
   ],
   "source": [
    "import numpy as np\n",
    "\n",
    "def avgProcentileStudents(file_path):\n",
    "    points = []\n",
    "    students = {}\n",
    "    \n",
    "    with open(file_path, 'r', encoding='utf-8') as file:\n",
    "        lines = file.read().split('\\n')\n",
    "        for line in lines:\n",
    "            name = line[:-1]\n",
    "            mark = float(line[-1:])\n",
    "            if name in students:\n",
    "                students[name] = (students[name] + mark)/2\n",
    "            else:\n",
    "                students.update({name:mark})\n",
    "            points.append(mark)   \n",
    "            \n",
    "    points_mat = np.array(points)\n",
    "    p = np.percentile(points_mat, 25)\n",
    "    print(f\"Средняя оценка учеников: {np.average(points_mat)}\\nПроцентиль 25 процентов: {p}\")\n",
    "    print(\"Отстающие по предмету (четверть худших по успеваемости учеников):\")\n",
    "    for student, mark in students.items():\n",
    "        if mark <= p:\n",
    "            print(student)\n",
    "\n",
    "avgProcentileStudents('Points.txt')"
   ]
  },
  {
   "cell_type": "markdown",
   "id": "8aae5a3b",
   "metadata": {},
   "source": [
    "2) Посчитать количество определенных слов в файле"
   ]
  },
  {
   "cell_type": "code",
   "execution_count": 2,
   "id": "af53c1c0",
   "metadata": {},
   "outputs": [
    {
     "name": "stdout",
     "output_type": "stream",
     "text": [
      "Лекций: 5\n",
      "Практических: 8\n",
      "Лабораторных: 5\n"
     ]
    }
   ],
   "source": [
    "import string\n",
    "\n",
    "def removePunc(str_input):\n",
    "    table = str.maketrans(dict.fromkeys(string.punctuation))\n",
    "    return str_input.translate(table)\n",
    "def CountWord(str_input, word):\n",
    "    str_input = removePunc(str_input)\n",
    "    striped_input = str_input.split()\n",
    "    amount_w = 0\n",
    "    for str_word in striped_input:\n",
    "        if str_word == word:\n",
    "            amount_w += 1\n",
    "    return amount_w\n",
    "\n",
    "def CountWordFile(file_path, word):\n",
    "    with open(file_path, 'r', encoding='utf-8') as file:\n",
    "        return CountWord(file.read(), word)\n",
    "\n",
    "print('Лекций:', CountWordFile(\"WeekClasses.txt\", \"лекц\"))\n",
    "print('Практических:', CountWordFile(\"WeekClasses.txt\", \"практ\"))\n",
    "print('Лабораторных:', CountWordFile(\"WeekClasses.txt\", \"лаб\"))"
   ]
  },
  {
   "cell_type": "markdown",
   "id": "b201d4fb",
   "metadata": {},
   "source": [
    "3) Откройте Telegram, найдите @BotFather и начните беседу. Отправьте команду /newbot и следуйте инструкциям."
   ]
  },
  {
   "cell_type": "markdown",
   "id": "0c18590e",
   "metadata": {},
   "source": [
    "<font color='green'>Done</font>"
   ]
  },
  {
   "cell_type": "markdown",
   "id": "e1491240",
   "metadata": {},
   "source": [
    "4) Выведите список файлов в указанной директории. например где у вас лежат ваши тетради"
   ]
  },
  {
   "cell_type": "code",
   "execution_count": 3,
   "id": "66f21b98",
   "metadata": {},
   "outputs": [
    {
     "name": "stdout",
     "output_type": "stream",
     "text": [
      "['HW2.ipynb', 'HW3.ipynb', 'HW4.ipynb', 'Jabberwock.txt', 'Points.txt', 'WeekClasses.txt']\n"
     ]
    }
   ],
   "source": [
    "import os\n",
    "\n",
    "print([f for f in os.listdir('.') if os.path.isfile(f)])"
   ]
  },
  {
   "cell_type": "markdown",
   "id": "4b1a6a1c",
   "metadata": {},
   "source": [
    "5) Напишите программу, которая принимает текст и выводит два слова: наиболее часто встречающееся и самое длинное."
   ]
  },
  {
   "cell_type": "code",
   "execution_count": 4,
   "id": "ff1ffa5e",
   "metadata": {},
   "outputs": [
    {
     "name": "stdout",
     "output_type": "stream",
     "text": [
      "И\n",
      "храброславленный\n"
     ]
    }
   ],
   "source": [
    "from collections import Counter\n",
    "\n",
    "def MostCommon(str_input):\n",
    "    str_input = removePunc(str_input)\n",
    "    splitted_list = str_input.split()\n",
    "    counts = Counter(splitted_list)\n",
    "    key = max(counts, key=counts.get)\n",
    "    return key\n",
    "\n",
    "def MostLong(str_input):\n",
    "    str_input = removePunc(str_input)\n",
    "    splitted_list = str_input.split()\n",
    "    long_word = \"\"\n",
    "    for word in splitted_list:\n",
    "        if len(word) > len(long_word):\n",
    "            long_word = word\n",
    "    return long_word\n",
    "\n",
    "\n",
    "with open(\"Jabberwock.txt\", 'r', encoding='utf-8') as file:\n",
    "    file_output = file.read()\n",
    "    print(MostCommon(file_output))\n",
    "    print(MostLong(file_output))\n"
   ]
  }
 ],
 "metadata": {
  "kernelspec": {
   "display_name": "Python 3 (ipykernel)",
   "language": "python",
   "name": "python3"
  },
  "language_info": {
   "codemirror_mode": {
    "name": "ipython",
    "version": 3
   },
   "file_extension": ".py",
   "mimetype": "text/x-python",
   "name": "python",
   "nbconvert_exporter": "python",
   "pygments_lexer": "ipython3",
   "version": "3.8.10"
  }
 },
 "nbformat": 4,
 "nbformat_minor": 5
}
