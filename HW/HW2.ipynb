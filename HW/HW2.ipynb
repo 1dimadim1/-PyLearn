{
 "cells": [
  {
   "cell_type": "markdown",
   "id": "b4f2ea0c",
   "metadata": {},
   "source": [
    "Задание 1"
   ]
  },
  {
   "cell_type": "code",
   "execution_count": 7,
   "id": "b0bf5025",
   "metadata": {},
   "outputs": [
    {
     "name": "stdout",
     "output_type": "stream",
     "text": [
      "Пожалуйста, введите номер месяца\n",
      "1\n",
      "Январь\n"
     ]
    }
   ],
   "source": [
    "monthes = [\"Январь\",\"Февраль\",\"Март\",\"Апрель\",\"Май\",\"Июнь\",\"Июль\", \"Август\",\"Сентябрь\", \"Октябрь\",\"Ноябрь\",\"Декабрь\"]\n",
    "print(\"Пожалуйста, введите номер месяца\")\n",
    "print(monthes[int(input()) -1])"
   ]
  },
  {
   "cell_type": "markdown",
   "id": "f3ea0c93",
   "metadata": {},
   "source": [
    "Задание 2"
   ]
  },
  {
   "cell_type": "code",
   "execution_count": 6,
   "id": "606b637b",
   "metadata": {},
   "outputs": [
    {
     "name": "stdout",
     "output_type": "stream",
     "text": [
      "Введите два числа\n",
      "600 1012\n",
      "НОД = 4\n"
     ]
    }
   ],
   "source": [
    "print(\"Введите два числа\")\n",
    "\n",
    "a,b = input().split()\n",
    "a = int(a)\n",
    "b = int(b)\n",
    "while a != b:\n",
    "    if a > b:\n",
    "        a -=b;\n",
    "    else:\n",
    "        b -= a;\n",
    "print(f\"НОД = {a}\")"
   ]
  },
  {
   "cell_type": "markdown",
   "id": "ad5cf5b0",
   "metadata": {},
   "source": [
    "Задание 3"
   ]
  },
  {
   "cell_type": "code",
   "execution_count": 8,
   "id": "656c56ff",
   "metadata": {},
   "outputs": [
    {
     "name": "stdout",
     "output_type": "stream",
     "text": [
      "Валидное расширение\n"
     ]
    }
   ],
   "source": [
    "file = \"Моя.диссертац.gif\"\n",
    "extensions = [\"png\", \"jpg\",\"jpeg\",\"gif\",\"swg\"]\n",
    "extension = file.split(\".\")[-1]\n",
    "if [x for x in extensions if x == extension]:\n",
    "    print(\"Валидное расширение\")\n",
    "else:\n",
    "    print(\"Невалидное расширение\")\n"
   ]
  },
  {
   "cell_type": "markdown",
   "id": "766751ab",
   "metadata": {},
   "source": [
    "Задание 4"
   ]
  },
  {
   "cell_type": "code",
   "execution_count": 9,
   "id": "9d82216a",
   "metadata": {},
   "outputs": [
    {
     "name": "stdout",
     "output_type": "stream",
     "text": [
      "Пожалуйста, введите год для проверки\n",
      "2021\n",
      "Невисокосный год\n"
     ]
    }
   ],
   "source": [
    "print(\"Пожалуйста, введите год для проверки\")\n",
    "if int(input())//4 ==0:\n",
    "    print(\"Високосный год\")\n",
    "else:\n",
    "    print(\"Невисокосный год\")"
   ]
  }
 ],
 "metadata": {
  "celltoolbar": "Отсутствует",
  "kernelspec": {
   "display_name": "Python 3 (ipykernel)",
   "language": "python",
   "name": "python3"
  },
  "language_info": {
   "codemirror_mode": {
    "name": "ipython",
    "version": 3
   },
   "file_extension": ".py",
   "mimetype": "text/x-python",
   "name": "python",
   "nbconvert_exporter": "python",
   "pygments_lexer": "ipython3",
   "version": "3.10.0"
  }
 },
 "nbformat": 4,
 "nbformat_minor": 5
}
