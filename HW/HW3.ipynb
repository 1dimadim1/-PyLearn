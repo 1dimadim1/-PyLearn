{
 "cells": [
  {
   "cell_type": "markdown",
   "id": "b5219ae3",
   "metadata": {},
   "source": [
    "Задание 1"
   ]
  },
  {
   "cell_type": "code",
   "execution_count": 6,
   "id": "df138d54",
   "metadata": {},
   "outputs": [
    {
     "name": "stdout",
     "output_type": "stream",
     "text": [
      "Валидное расширение\n",
      "Невалидное расширение\n"
     ]
    }
   ],
   "source": [
    "def isValidFileName(*files):\n",
    "    for file in files:\n",
    "        extensions = [\"png\", \"jpg\",\"jpeg\",\"gif\",\"swg\"]\n",
    "        extension = file.split(\".\")[-1]\n",
    "        if [x for x in extensions if x == extension]:\n",
    "            print(\"Валидное расширение\")\n",
    "        else:\n",
    "            print(\"Невалидное расширение\")\n",
    "isValidFileName(\"Моя.Дисертация.gif\", \"НеМояДисертация\")"
   ]
  },
  {
   "cell_type": "markdown",
   "id": "885211ac",
   "metadata": {},
   "source": [
    "Задание*"
   ]
  },
  {
   "cell_type": "code",
   "execution_count": 12,
   "id": "165d5e3e",
   "metadata": {},
   "outputs": [
    {
     "data": {
      "text/plain": [
       "{'aaa': 2, 'ssk': 1, 'sss': 1, 'ssf': 2}"
      ]
     },
     "execution_count": 12,
     "metadata": {},
     "output_type": "execute_result"
    }
   ],
   "source": [
    "def tokenize(str_input):\n",
    "    str_out = str_input.split()\n",
    "    str_out = set(str_out)\n",
    "    return list(str_out)\n",
    "def tocenizeDic(str_input):\n",
    "    str_splitted = str_input.split()\n",
    "    keys = tokenize(str_input)\n",
    "    out_dic = {}\n",
    "    for key in keys:\n",
    "        out_dic.update({key:str_splitted.count(key) })\n",
    "    return out_dic\n",
    "    \n",
    "tocenizeDic(\"aaa aaa ssf ssf sss ssk\")"
   ]
  }
 ],
 "metadata": {
  "kernelspec": {
   "display_name": "Python 3 (ipykernel)",
   "language": "python",
   "name": "python3"
  },
  "language_info": {
   "codemirror_mode": {
    "name": "ipython",
    "version": 3
   },
   "file_extension": ".py",
   "mimetype": "text/x-python",
   "name": "python",
   "nbconvert_exporter": "python",
   "pygments_lexer": "ipython3",
   "version": "3.10.0"
  }
 },
 "nbformat": 4,
 "nbformat_minor": 5
}
