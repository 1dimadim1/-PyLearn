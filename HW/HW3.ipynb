{
 "cells": [
  {
   "cell_type": "markdown",
   "id": "096de041",
   "metadata": {},
   "source": [
    "Напишите функцию, извлекающую корень n-й степени из числа x. По умолчанию def будет извлекать квадратный корень:"
   ]
  },
  {
   "cell_type": "code",
   "execution_count": 2,
   "id": "c357451e",
   "metadata": {},
   "outputs": [
    {
     "name": "stdout",
     "output_type": "stream",
     "text": [
      "3.0\n",
      "3.0\n"
     ]
    }
   ],
   "source": [
    "def root(val, power = 2):\n",
    "    return (val ** (1.0/power))\n",
    "\n",
    "print(root(9))\n",
    "print(root(27,3))"
   ]
  },
  {
   "cell_type": "markdown",
   "id": "b5219ae3",
   "metadata": {},
   "source": [
    "Перепишите ваш код для проверки расширения из прошлого ДЗ в функцию которая принимает список расширений и имя файла"
   ]
  },
  {
   "cell_type": "code",
   "execution_count": 15,
   "id": "df138d54",
   "metadata": {},
   "outputs": [
    {
     "name": "stdout",
     "output_type": "stream",
     "text": [
      "Валидное расширение\n"
     ]
    }
   ],
   "source": [
    "def isValidFileName(file, extensions):\n",
    "    extension = file.split(\".\")[-1]\n",
    "    if [x for x in extensions if x == extension]:\n",
    "        print(\"Валидное расширение\")\n",
    "    else:\n",
    "        print(\"Невалидное расширение\")\n",
    "        \n",
    "isValidFileName(\"Моя.Дисертация.gif\", [\"png\", \"jpg\",\"jpeg\",\"gif\",\"swg\"])"
   ]
  },
  {
   "cell_type": "markdown",
   "id": "b697d5ee",
   "metadata": {},
   "source": [
    "Слейте воедино три словаря"
   ]
  },
  {
   "cell_type": "code",
   "execution_count": 13,
   "id": "dd7a28d4",
   "metadata": {},
   "outputs": [
    {
     "data": {
      "text/plain": [
       "{1: 10, 2: 20, 3: 30, 4: 40, 5: 50, 6: 60}"
      ]
     },
     "execution_count": 13,
     "metadata": {},
     "output_type": "execute_result"
    }
   ],
   "source": [
    "def mergeDict(*dicts):\n",
    "    dict_out = {}\n",
    "    for dic in dicts:\n",
    "        dict_out.update(dic)\n",
    "    return dict_out\n",
    "\n",
    "dict_a = {1:10, 2:20}\n",
    "dict_b = {3:30, 4:40}\n",
    "dict_c = {5:50, 6:60}\n",
    "\n",
    "mergeDict(dict_a, dict_b, dict_c)"
   ]
  },
  {
   "cell_type": "markdown",
   "id": "14fa6a28",
   "metadata": {},
   "source": [
    "Напишите функцию которая будет складывать цифры внутри числа"
   ]
  },
  {
   "cell_type": "code",
   "execution_count": 11,
   "id": "2b434542",
   "metadata": {},
   "outputs": [
    {
     "name": "stdout",
     "output_type": "stream",
     "text": [
      "2345\n",
      "Total numbers: 14\n"
     ]
    }
   ],
   "source": [
    "def countNumbers(val):\n",
    "    sum = 0\n",
    "    if val < 0:\n",
    "        val = -val\n",
    "    while val > 0:\n",
    "        sum += val % 10\n",
    "        val //= 10\n",
    "    return sum\n",
    "\n",
    "print(f\"Total numbers: {countNumbers(int(input()))}\")\n",
    "        "
   ]
  },
  {
   "cell_type": "markdown",
   "id": "dc2ae43a",
   "metadata": {},
   "source": [
    "Нужно проверить, все ли числа в последовательности уникальны."
   ]
  },
  {
   "cell_type": "code",
   "execution_count": 20,
   "id": "da9c8b13",
   "metadata": {},
   "outputs": [
    {
     "name": "stdout",
     "output_type": "stream",
     "text": [
      "Все числа уникальны!\n"
     ]
    }
   ],
   "source": [
    "def countUnic(numbers):\n",
    "    set_num = set(numbers)\n",
    "    return len(set_num)\n",
    "\n",
    "numbers=[1,4,5]\n",
    "if(len(numbers)>countUnic(numbers)):\n",
    "    print(\"Тут есть копии...\")\n",
    "else:\n",
    "    print(\"Все числа уникальны!\")"
   ]
  },
  {
   "cell_type": "markdown",
   "id": "53c400c6",
   "metadata": {},
   "source": [
    "6.Создать функцию, которая просто печатает все элементы заданного ей списка:\n",
    "\n",
    " НОМЕР J --> ЗНАЧЕНИЕ\n",
    " НОМЕР K --> ЗНАЧЕНИЕ\n",
    "J, K — порядковые номера в спис"
   ]
  },
  {
   "cell_type": "code",
   "execution_count": 3,
   "id": "1a979515",
   "metadata": {},
   "outputs": [
    {
     "name": "stdout",
     "output_type": "stream",
     "text": [
      "Номер 0 --> я\n",
      "Номер 1 --> не\n",
      "Номер 2 --> в\n",
      "Номер 3 --> отпуск\n"
     ]
    }
   ],
   "source": [
    "def print_list(my_list):\n",
    "    for i, val in enumerate(my_list):\n",
    "        print(f\"Номер {i} --> {val}\")\n",
    "    pass\n",
    "\n",
    "print_list([\"я\", \"не\", \"в\", \"отпуск\" ])"
   ]
  },
  {
   "cell_type": "markdown",
   "id": "3073d9f3",
   "metadata": {},
   "source": [
    "Создать функцию, которая печатает каждый элемент словарика\n",
    "\n",
    "    КЛЮЧ <<J>> --> ЗНАЧЕНИЕ\n",
    "    КЛЮЧ <<K>> --> ЗНАЧЕНИЕ\n",
    "J, K — ключи словарика"
   ]
  },
  {
   "cell_type": "code",
   "execution_count": 5,
   "id": "36359550",
   "metadata": {},
   "outputs": [
    {
     "name": "stdout",
     "output_type": "stream",
     "text": [
      "Ключ key1 --> 2\n",
      "Ключ key3 --> False\n",
      "Ключ Приветствие --> Hello\n"
     ]
    }
   ],
   "source": [
    "def print_dict(my_dict):\n",
    "    for key, val in my_dict.items():\n",
    "        print(f\"Ключ {key} --> {val}\")\n",
    "    pass\n",
    "\n",
    "print_dict({\"key1\": 2, \"key3\": False, \"Приветствие\": \"Hello\"})"
   ]
  },
  {
   "cell_type": "markdown",
   "id": "02969563",
   "metadata": {},
   "source": [
    "Сделать функцию, которая использует две уже написанные функции следующим образом:\n",
    "\n",
    "если ЗНАЧЕНИЕ это LIST --> вызывается print_list\n",
    "если ЗНАЧЕНИЕ это DICT --> вызывается print_dict\n",
    "во всех других случаях просто выводится ЗНАЧЕНИЕ"
   ]
  },
  {
   "cell_type": "code",
   "execution_count": 7,
   "id": "99793c7a",
   "metadata": {},
   "outputs": [
    {
     "name": "stdout",
     "output_type": "stream",
     "text": [
      "Ключ key1 --> 1\n",
      "Ключ key2 --> [1, 2, 3, 4]\n",
      "Ключ key3 --> Hello\n",
      "Ключ key4 --> {'ciao': 'Mondo', 'Привет': 'О дивный мир'}\n"
     ]
    }
   ],
   "source": [
    "def print_overlord(mydict):\n",
    "    if type(mydict)==dict:\n",
    "        print_dict(mydict)\n",
    "    elif type(mydict)==list:\n",
    "        print_list(mydict)\n",
    "    pass\n",
    "\n",
    "print_overlord(dict(key1=1,\n",
    "            key2=[1, 2, 3, 4], \n",
    "            key3='Hello', \n",
    "            key4={\"ciao\":\"Mondo\", \"Привет\": \"О дивный мир\"}))"
   ]
  },
  {
   "cell_type": "markdown",
   "id": "885211ac",
   "metadata": {},
   "source": [
    "Задание*"
   ]
  },
  {
   "cell_type": "code",
   "execution_count": 1,
   "id": "165d5e3e",
   "metadata": {},
   "outputs": [
    {
     "name": "stdout",
     "output_type": "stream",
     "text": [
      "['aaa,', 'not', 'aaa;', 'then', 'bbb']\n",
      "{'sss': 1, 'ssf': 2, 'aaa': 2, 'ssk': 1}\n"
     ]
    }
   ],
   "source": [
    "def removePunc(str_input):\n",
    "    punc = '''!()-[]{};:'\"\\,<>./?@#$%^&*_~'''\n",
    "    for c in punc: \n",
    "        if c in str_input:\n",
    "            str_input.replace(c, '')\n",
    "    \n",
    "def tokenize(str_input):\n",
    "    removePunc(str_input)\n",
    "    str_out = str_input.split()\n",
    "    str_out = set(str_out)\n",
    "    return list(str_out)\n",
    "def tocenizeDic(str_input):\n",
    "    removePunc(str_input)\n",
    "    str_splitted = str_input.split()\n",
    "    keys = tokenize(str_input)\n",
    "    out_dic = {}\n",
    "    for key in keys:\n",
    "        out_dic.update({key:str_splitted.count(key) })\n",
    "    return out_dic\n",
    "    \n",
    "print(tokenize(\"aaa, not aaa; then bbb\"))\n",
    "print(tocenizeDic(\"aaa aaa ssf ssf sss ssk\"))"
   ]
  }
 ],
 "metadata": {
  "kernelspec": {
   "display_name": "Python 3 (ipykernel)",
   "language": "python",
   "name": "python3"
  },
  "language_info": {
   "codemirror_mode": {
    "name": "ipython",
    "version": 3
   },
   "file_extension": ".py",
   "mimetype": "text/x-python",
   "name": "python",
   "nbconvert_exporter": "python",
   "pygments_lexer": "ipython3",
   "version": "3.8.10"
  }
 },
 "nbformat": 4,
 "nbformat_minor": 5
}
