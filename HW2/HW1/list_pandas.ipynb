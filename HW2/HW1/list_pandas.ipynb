{
 "cells": [
  {
   "cell_type": "code",
   "execution_count": 1,
   "id": "344a99bd",
   "metadata": {},
   "outputs": [],
   "source": [
    "import pandas as pd\n",
    "\n",
    "class Node(object):\n",
    "    def __init__(self, value=None, next_node=None):\n",
    "        self.value = value\n",
    "        self.next = next_node\n",
    "\n",
    "    def __str__(self):\n",
    "        return f\"[Node with value {self.value}]\"\n",
    "    \n",
    "    def __getitem__(self, key):\n",
    "        lastbox = self\n",
    "        boxIndex = 0\n",
    "        while boxIndex <= key:\n",
    "            if boxIndex == key:\n",
    "                return lastbox\n",
    "            boxIndex += 1\n",
    "            lastbox = lastbox.next\n",
    "        raise MyException('Oops!  That was no valid index.  Try again...')\n",
    "    \n",
    "    def set_item(self, newValue):\n",
    "        self.value = newValue\n",
    "        \n",
    "    def size(self):\n",
    "        lastbox = self\n",
    "        size = 0\n",
    "        if self.value != None:\n",
    "            size += 1\n",
    "        while lastbox.next:\n",
    "            size += 1\n",
    "            lastbox = lastbox.next\n",
    "        return size\n",
    "\n",
    "def print_linked_list(head):\n",
    "    cur = head\n",
    "    while cur is not None:\n",
    "        print(cur)\n",
    "        cur = cur.next"
   ]
  },
  {
   "cell_type": "markdown",
   "id": "fe454478",
   "metadata": {},
   "source": [
    "Задача 1 Связанные списки\n",
    "Напишите функцию (пусть онабудет называться reverse_linked_list), которая разворачивает связный список. На вход она принимает головную ноду, а на выход отдаёт хвостовую ноду исходного списка, но только теперь если попробовать пройтись по ней, она будет новой головной. С функцией из примера выше,"
   ]
  },
  {
   "cell_type": "code",
   "execution_count": 2,
   "id": "3e900972",
   "metadata": {},
   "outputs": [],
   "source": [
    "def reverse_linked_list(head):\n",
    "    cur = head\n",
    "    newList = None\n",
    "    while cur is not None:\n",
    "        newList = Node(cur.value, newList)\n",
    "        cur = cur.next\n",
    "    return newList"
   ]
  },
  {
   "cell_type": "code",
   "execution_count": 3,
   "id": "20d11b49",
   "metadata": {},
   "outputs": [
    {
     "name": "stdout",
     "output_type": "stream",
     "text": [
      "[Node with value 1]\n",
      "[Node with value 2]\n",
      "[Node with value 3]\n",
      "[Node with value Внезапно]\n",
      "[Node with value 5]\n",
      "---\n",
      "[Node with value 5]\n",
      "[Node with value Внезапно]\n",
      "[Node with value 3]\n",
      "[Node with value 2]\n",
      "[Node with value 1]\n"
     ]
    }
   ],
   "source": [
    "h, a, b, c, d = Node(1), Node(2), Node(3), Node(\"Внезапно\"), Node(5)\n",
    "\n",
    "h.next = a\n",
    "a.next = b\n",
    "b.next = c\n",
    "c.next = d\n",
    "\n",
    "print_linked_list(h)\n",
    "h = reverse_linked_list(h)\n",
    "print(\"---\")\n",
    "print_linked_list(h)"
   ]
  },
  {
   "cell_type": "markdown",
   "id": "0fc8ea30",
   "metadata": {},
   "source": [
    "Задача 2. Вам предлагается написать функцию, которая будет на вход получать голову несортированного связного списка, а на выход возвращать голову отсортированного."
   ]
  },
  {
   "cell_type": "code",
   "execution_count": 4,
   "id": "d5dbd468",
   "metadata": {},
   "outputs": [],
   "source": [
    "h[1].set_item(7)"
   ]
  },
  {
   "cell_type": "code",
   "execution_count": 5,
   "id": "21289c0b",
   "metadata": {},
   "outputs": [],
   "source": [
    "def swap_node(node1, node2):\n",
    "    t = node2.value\n",
    "    node2.value = node1.value\n",
    "    node1.value = t\n",
    "def bubble_sort(node):\n",
    "    size = h.size()\n",
    "    for i in range(size):\n",
    "        for j in range(i, size):\n",
    "            if h[i].value > h[j].value:\n",
    "                swap_node(h[i], h[j])"
   ]
  },
  {
   "cell_type": "code",
   "execution_count": 6,
   "id": "17b7e4ac",
   "metadata": {},
   "outputs": [
    {
     "name": "stdout",
     "output_type": "stream",
     "text": [
      "[Node with value 1]\n",
      "[Node with value 2]\n",
      "[Node with value 3]\n",
      "[Node with value 5]\n",
      "[Node with value 7]\n"
     ]
    }
   ],
   "source": [
    "bubble_sort(h)\n",
    "print_linked_list(h)"
   ]
  },
  {
   "cell_type": "markdown",
   "id": "459e0e4f",
   "metadata": {},
   "source": [
    "Задача 3 Pandas\n",
    "1) Выясните, сколько в среднем выходи полный счёт по пятницам на ланч у курящих мужчин (датасет tips)\n",
    "\n",
    "2) Загрузите iris и посмотрите разбросы по всем числовым значениям для всех трёх классов цветов (датасет iris)\n",
    "\n",
    "3) Создайте новый столбец с плотностью населения. Переименуйте названия первого и третьего столбца на русский язык"
   ]
  },
  {
   "cell_type": "code",
   "execution_count": 7,
   "id": "9205079d",
   "metadata": {},
   "outputs": [],
   "source": [
    "df = pd.read_csv(\"./tips.csv\")"
   ]
  },
  {
   "cell_type": "code",
   "execution_count": 8,
   "id": "fa3f5cda",
   "metadata": {},
   "outputs": [
    {
     "name": "stdout",
     "output_type": "stream",
     "text": [
      "В среднем полный счёт по пятницам на ланч у курящих мужчин состовляет: 18.148914328268145\n"
     ]
    }
   ],
   "source": [
    "# 1) Выясните, сколько в среднем выходи полный счёт по пятницам на ланч у курящих мужчин (датасет tips)\n",
    "masque = (df[\"sex\"] == \"Male\") & (df[\"smoker\"] == \"Yes\")& (df[\"day\"] == \"Fri\")\n",
    "print(\"В среднем полный счёт по пятницам на ланч у курящих мужчин состовляет: \"+\n",
    "      str(df[masque][\"total_bill\"].describe().mean()))"
   ]
  },
  {
   "cell_type": "code",
   "execution_count": 9,
   "id": "6eb793a6",
   "metadata": {},
   "outputs": [
    {
     "name": "stdout",
     "output_type": "stream",
     "text": [
      "For Iris-setosa color SepalLength is 5.006+-0.35248968721345136\n",
      "For Iris-setosa color SepalWidth is 3.418+-0.38102439795469095\n",
      "For Iris-setosa color PetalLength is 1.464+-0.17351115943644546\n",
      "For Iris-setosa color PetalWidth is 0.244+-0.1072095030816784\n",
      "----------------------------------------------------------------------------------------------------\n",
      "For Iris-versicolor color SepalLength is 5.936+-0.5161711470638634\n",
      "For Iris-versicolor color SepalWidth is 2.7700000000000005+-0.3137983233784114\n",
      "For Iris-versicolor color PetalLength is 4.26+-0.46991097723995795\n",
      "For Iris-versicolor color PetalWidth is 1.3259999999999998+-0.19775268000454405\n",
      "----------------------------------------------------------------------------------------------------\n",
      "For Iris-virginica color SepalLength is 6.587999999999998+-0.6358795932744322\n",
      "For Iris-virginica color SepalWidth is 2.974+-0.32249663817263746\n",
      "For Iris-virginica color PetalLength is 5.5520000000000005+-0.5518946956639834\n",
      "For Iris-virginica color PetalWidth is 2.0260000000000002+-0.2746500556366674\n",
      "----------------------------------------------------------------------------------------------------\n"
     ]
    }
   ],
   "source": [
    "# 2) Загрузите iris и посмотрите разбросы по всем числовым значениям для всех трёх классов цветов (датасет iris)\n",
    "df_i = pd.read_csv(\"./iris.csv\")\n",
    "\n",
    "uniqueColors = ['Iris-setosa', 'Iris-versicolor', 'Iris-virginica']\n",
    "uniqueVals = ['SepalLength', 'SepalWidth', 'PetalLength', 'PetalWidth']\n",
    "\n",
    "for color in uniqueColors:\n",
    "    iris_stat = df_i[df_i[\"Name\"] == color].describe()\n",
    "    for val in uniqueVals:\n",
    "        mean = str(iris_stat[val][\"mean\"])\n",
    "        std = str(iris_stat[val][\"std\"])\n",
    "        print(f\"For {color} color {val} is {mean}+-{std}\")\n",
    "    print('-'*100)"
   ]
  },
  {
   "cell_type": "code",
   "execution_count": 18,
   "id": "60e83170",
   "metadata": {},
   "outputs": [],
   "source": [
    "# 3) Создайте новый столбец с плотностью населения. Переименуйте названия первого и третьего столбца на русский язык\n",
    "df_p = pd.DataFrame({\n",
    "     'country': ['Kazakhstan', 'Russia', 'Belarus', 'Ukraine'],\n",
    "     'population': [17.04, 143.5, 9.5, 45.5],\n",
    "     'square': [2724902, 17125191, 207600, 603628]\n",
    " })\n",
    "df_p['density'] = df_p.population * 1000000 / df_p.square\n",
    "df_p = df_p.rename({'country': 'Страна', 'square': 'Площадь' }, axis=1)"
   ]
  },
  {
   "cell_type": "code",
   "execution_count": 19,
   "id": "0251dbf7",
   "metadata": {},
   "outputs": [
    {
     "data": {
      "text/html": [
       "<div>\n",
       "<style scoped>\n",
       "    .dataframe tbody tr th:only-of-type {\n",
       "        vertical-align: middle;\n",
       "    }\n",
       "\n",
       "    .dataframe tbody tr th {\n",
       "        vertical-align: top;\n",
       "    }\n",
       "\n",
       "    .dataframe thead th {\n",
       "        text-align: right;\n",
       "    }\n",
       "</style>\n",
       "<table border=\"1\" class=\"dataframe\">\n",
       "  <thead>\n",
       "    <tr style=\"text-align: right;\">\n",
       "      <th></th>\n",
       "      <th>Страна</th>\n",
       "      <th>population</th>\n",
       "      <th>Площадь</th>\n",
       "      <th>density</th>\n",
       "    </tr>\n",
       "  </thead>\n",
       "  <tbody>\n",
       "    <tr>\n",
       "      <th>0</th>\n",
       "      <td>Kazakhstan</td>\n",
       "      <td>17.04</td>\n",
       "      <td>2724902</td>\n",
       "      <td>6.253436</td>\n",
       "    </tr>\n",
       "    <tr>\n",
       "      <th>1</th>\n",
       "      <td>Russia</td>\n",
       "      <td>143.50</td>\n",
       "      <td>17125191</td>\n",
       "      <td>8.379469</td>\n",
       "    </tr>\n",
       "    <tr>\n",
       "      <th>2</th>\n",
       "      <td>Belarus</td>\n",
       "      <td>9.50</td>\n",
       "      <td>207600</td>\n",
       "      <td>45.761079</td>\n",
       "    </tr>\n",
       "    <tr>\n",
       "      <th>3</th>\n",
       "      <td>Ukraine</td>\n",
       "      <td>45.50</td>\n",
       "      <td>603628</td>\n",
       "      <td>75.377550</td>\n",
       "    </tr>\n",
       "  </tbody>\n",
       "</table>\n",
       "</div>"
      ],
      "text/plain": [
       "       Страна  population   Площадь    density\n",
       "0  Kazakhstan       17.04   2724902   6.253436\n",
       "1      Russia      143.50  17125191   8.379469\n",
       "2     Belarus        9.50    207600  45.761079\n",
       "3     Ukraine       45.50    603628  75.377550"
      ]
     },
     "execution_count": 19,
     "metadata": {},
     "output_type": "execute_result"
    }
   ],
   "source": [
    "df_p"
   ]
  }
 ],
 "metadata": {
  "kernelspec": {
   "display_name": "Python 3 (ipykernel)",
   "language": "python",
   "name": "python3"
  },
  "language_info": {
   "codemirror_mode": {
    "name": "ipython",
    "version": 3
   },
   "file_extension": ".py",
   "mimetype": "text/x-python",
   "name": "python",
   "nbconvert_exporter": "python",
   "pygments_lexer": "ipython3",
   "version": "3.8.10"
  }
 },
 "nbformat": 4,
 "nbformat_minor": 5
}
