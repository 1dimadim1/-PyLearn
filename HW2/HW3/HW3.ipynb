{
 "cells": [
  {
   "cell_type": "code",
   "execution_count": 1,
   "id": "819e20a3",
   "metadata": {},
   "outputs": [],
   "source": [
    "import pandas as pd\n",
    "import numpy as np\n",
    "\n",
    "from sklearn.model_selection import train_test_split\n",
    "from sklearn.preprocessing import StandardScaler\n",
    "from sklearn.ensemble import RandomForestClassifier\n",
    "from sklearn.metrics import accuracy_score\n",
    "\n",
    "from sklearn import preprocessing\n",
    "le = preprocessing.LabelEncoder()\n"
   ]
  },
  {
   "cell_type": "code",
   "execution_count": 2,
   "id": "18870c66",
   "metadata": {},
   "outputs": [],
   "source": [
    "PATH = './DataSet_w_NA.xlsx'\n",
    "df = pd.read_excel(PATH, sheet_name=\"Испорченные факты\")\n",
    "df.dropna(inplace = True)\n",
    "dict_of_classes) -> {0: 'A', 1: 'B', 2: 'C'}"
   ]
  },
  {
   "cell_type": "code",
   "execution_count": 3,
   "id": "6892199e",
   "metadata": {},
   "outputs": [],
   "source": [
    "df = pd.pivot_table(df, index='Факты.Товар ID', values = ['Продажи, шт', 'Продажи, руб', 'Маржинальная прибыль',\n",
    "                                                             'Повторение заказа', 'Повторение товара'], \n",
    "                       aggfunc={'Продажи, шт': [np.median, np.sum],\n",
    "                              'Продажи, руб': [np.median, np.sum],\n",
    "                              'Повторение заказа': np.sum,\n",
    "                              'Маржинальная прибыль': np.sum})\n",
    "\n",
    "newname=df.columns.map('_'.join)\n",
    "df.columns=newname\n",
    "df=df.reset_index()\n",
    "\n",
    "total_sale=df['Продажи, руб_sum'].sum()\n",
    "df['Доля']=df['Продажи, руб_sum']/total_sale * 100\n",
    "df = df.sort_values(by=('Продажи, руб_sum'), ascending=False)\n",
    "df = df.assign(sum_d=df['Доля'].cumsum())\n",
    "\n",
    "df.loc[(df['sum_d'] <= 80), 'ABC'] = 'A'\n",
    "df.loc[(df['sum_d'] > 80) & (df['sum_d'] <= 95), 'ABC'] = 'B'\n",
    "df.loc[(df['sum_d'] > 95), 'ABC'] = 'C'\n",
    "le.fit([\"A\", \"B\", \"C\"])\n",
    "df['class'] = le.transform(df['ABC'])"
   ]
  },
  {
   "cell_type": "code",
   "execution_count": 4,
   "id": "56920769",
   "metadata": {},
   "outputs": [],
   "source": [
    "def Classifier_acc(df, features, classifier, scaler):\n",
    "    X = df[features]\n",
    "    Y = df['class']\n",
    "    X_train, X_test, y_train, y_test = train_test_split(X, Y, test_size=0.20, random_state = 1)\n",
    "    X_train_scaled = scaler.fit_transform(X_train)\n",
    "    X_test_scaled = scaler.transform(X_test)\n",
    "    classifier.fit(X_train_scaled, y_train)\n",
    "    y_pred = classifier.predict(X_test_scaled)\n",
    "    \n",
    "    print(f'Score is {classifier.score(X_train_scaled, y_train)}')\n",
    "    print(f\"Accuracy is {accuracy_score(y_test, y_pred)*100} %\")\n",
    "def Class_predict(params, classifier, scaler):\n",
    "    data_scaled = scaler.transform(params)\n",
    "    class_ = classifier.predict(data_scaled)\n",
    "    return dict_of_classes[class_[0]]\n",
    "    "
   ]
  },
  {
   "cell_type": "code",
   "execution_count": 5,
   "id": "c96a215f",
   "metadata": {},
   "outputs": [
    {
     "name": "stdout",
     "output_type": "stream",
     "text": [
      "Score is 1.0\n",
      "Accuracy is 99.73190348525469 %\n"
     ]
    },
    {
     "name": "stderr",
     "output_type": "stream",
     "text": [
      "C:\\Users\\Dmitry\\AppData\\Roaming\\Python\\Python37\\site-packages\\sklearn\\base.py:451: UserWarning: X does not have valid feature names, but StandardScaler was fitted with feature names\n",
      "  \"X does not have valid feature names, but\"\n"
     ]
    },
    {
     "ename": "NameError",
     "evalue": "name 'dict_of_classes' is not defined",
     "output_type": "error",
     "traceback": [
      "\u001b[1;31m---------------------------------------------------------------------------\u001b[0m",
      "\u001b[1;31mNameError\u001b[0m                                 Traceback (most recent call last)",
      "\u001b[1;32m~\\AppData\\Local\\Temp/ipykernel_20456/2024725473.py\u001b[0m in \u001b[0;36m<module>\u001b[1;34m\u001b[0m\n\u001b[0;32m      5\u001b[0m \u001b[0mrfc\u001b[0m \u001b[1;33m=\u001b[0m \u001b[0mRandomForestClassifier\u001b[0m\u001b[1;33m(\u001b[0m\u001b[1;33m)\u001b[0m\u001b[1;33m\u001b[0m\u001b[1;33m\u001b[0m\u001b[0m\n\u001b[0;32m      6\u001b[0m \u001b[0mClassifier_acc\u001b[0m\u001b[1;33m(\u001b[0m\u001b[0mdf\u001b[0m\u001b[1;33m,\u001b[0m \u001b[1;33m[\u001b[0m\u001b[1;34m'Продажи, руб_median'\u001b[0m\u001b[1;33m,\u001b[0m \u001b[1;34m'Продажи, шт_sum'\u001b[0m\u001b[1;33m,\u001b[0m \u001b[1;34m'Доля'\u001b[0m\u001b[1;33m]\u001b[0m\u001b[1;33m,\u001b[0m \u001b[0mrfc\u001b[0m\u001b[1;33m,\u001b[0m \u001b[0mscaler\u001b[0m\u001b[1;33m)\u001b[0m\u001b[1;33m\u001b[0m\u001b[1;33m\u001b[0m\u001b[0m\n\u001b[1;32m----> 7\u001b[1;33m \u001b[0mprint\u001b[0m\u001b[1;33m(\u001b[0m\u001b[1;34mf'Предсказанный класс rfc: {Class_predict(data, rfc, scaler)}'\u001b[0m\u001b[1;33m)\u001b[0m\u001b[1;33m\u001b[0m\u001b[1;33m\u001b[0m\u001b[0m\n\u001b[0m",
      "\u001b[1;32m~\\AppData\\Local\\Temp/ipykernel_20456/310381607.py\u001b[0m in \u001b[0;36mClass_predict\u001b[1;34m(params, classifier, scaler)\u001b[0m\n\u001b[0;32m     13\u001b[0m     \u001b[0mdata_scaled\u001b[0m \u001b[1;33m=\u001b[0m \u001b[0mscaler\u001b[0m\u001b[1;33m.\u001b[0m\u001b[0mtransform\u001b[0m\u001b[1;33m(\u001b[0m\u001b[0mparams\u001b[0m\u001b[1;33m)\u001b[0m\u001b[1;33m\u001b[0m\u001b[1;33m\u001b[0m\u001b[0m\n\u001b[0;32m     14\u001b[0m     \u001b[0mclass_\u001b[0m \u001b[1;33m=\u001b[0m \u001b[0mclassifier\u001b[0m\u001b[1;33m.\u001b[0m\u001b[0mpredict\u001b[0m\u001b[1;33m(\u001b[0m\u001b[0mdata_scaled\u001b[0m\u001b[1;33m)\u001b[0m\u001b[1;33m\u001b[0m\u001b[1;33m\u001b[0m\u001b[0m\n\u001b[1;32m---> 15\u001b[1;33m     \u001b[1;32mreturn\u001b[0m \u001b[0mdict_of_classes\u001b[0m\u001b[1;33m[\u001b[0m\u001b[0mclass_\u001b[0m\u001b[1;33m[\u001b[0m\u001b[1;36m0\u001b[0m\u001b[1;33m]\u001b[0m\u001b[1;33m]\u001b[0m\u001b[1;33m\u001b[0m\u001b[1;33m\u001b[0m\u001b[0m\n\u001b[0m\u001b[0;32m     16\u001b[0m \u001b[1;33m\u001b[0m\u001b[0m\n",
      "\u001b[1;31mNameError\u001b[0m: name 'dict_of_classes' is not defined"
     ]
    }
   ],
   "source": [
    "scaler = StandardScaler()\n",
    "data = [[25000, 10, 0.05]]\n",
    "\n",
    "\n",
    "rfc = RandomForestClassifier()\n",
    "Classifier_acc(df, ['Продажи, руб_median', 'Продажи, шт_sum', 'Доля'], rfc, scaler)\n",
    "print(f'Предсказанный класс rfc: {Class_predict(data, rfc, scaler)}')"
   ]
  },
  {
   "cell_type": "code",
   "execution_count": null,
   "id": "3fdd8fe0",
   "metadata": {},
   "outputs": [],
   "source": [
    "df[(df[\"ABC\"] == \"B\")]"
   ]
  }
 ],
 "metadata": {
  "kernelspec": {
   "display_name": "Python 3 (ipykernel)",
   "language": "python",
   "name": "python3"
  },
  "language_info": {
   "codemirror_mode": {
    "name": "ipython",
    "version": 3
   },
   "file_extension": ".py",
   "mimetype": "text/x-python",
   "name": "python",
   "nbconvert_exporter": "python",
   "pygments_lexer": "ipython3",
   "version": "3.7.8"
  }
 },
 "nbformat": 4,
 "nbformat_minor": 5
}
