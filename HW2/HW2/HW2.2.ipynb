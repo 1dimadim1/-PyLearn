{
 "cells": [
  {
   "cell_type": "code",
   "execution_count": 1,
   "id": "1cf57f61",
   "metadata": {},
   "outputs": [],
   "source": [
    "import pandas as pd\n",
    "import numpy as np\n",
    "import matplotlib.pyplot as plt\n",
    "\n",
    "from collections import Counter\n",
    "from sklearn.datasets import load_iris\n",
    "from sklearn.cluster import DBSCAN\n",
    "from sklearn.decomposition import PCA\n",
    "from sklearn import preprocessing\n",
    "from sklearn.neighbors import NearestNeighbors"
   ]
  },
  {
   "cell_type": "code",
   "execution_count": 2,
   "id": "d087d739",
   "metadata": {},
   "outputs": [],
   "source": [
    "df = pd.read_csv(\"./anime.csv\")"
   ]
  },
  {
   "cell_type": "code",
   "execution_count": 3,
   "id": "eacc1601",
   "metadata": {},
   "outputs": [],
   "source": [
    "# sorted_ = df[[\"Name\", \"Score\", \"Genres\",\"Episodes\", \"Ranked\", \"Popularity\", \"Members\", \"Favorites\", \"Watching\", \"Completed\", \"On-Hold\", \"Dropped\", \"Plan to Watch\"]]\n",
    "sorted_ = df.drop([\"English name\", \"Japanese name\", \"Aired\" ,\"Premiered\", \"Type\", \n",
    "                    \"Producers\", \"Licensors\", \"Studios\", \"Source\", \"Duration\", \"Rating\"], axis=1)\n",
    "sorted_ = sorted_[(sorted_[\"Score\"] != \"Unknown\")& (sorted_[\"Episodes\"] != \"Unknown\")& (sorted_[\"Ranked\"] != \"Unknown\")& (sorted_[\"Members\"] != \"0\")]\n",
    "sorted_[\"Score-10\"] = sorted_[\"Score-10\"].apply(lambda x: 0.0 if x == \"Unknown\" else float(x))\n",
    "sorted_[\"Score-9\"] = sorted_[\"Score-9\"].apply(lambda x: 0.0 if x == \"Unknown\" else float(x))\n",
    "sorted_[\"Score-8\"] = sorted_[\"Score-8\"].apply(lambda x: 0.0 if x == \"Unknown\" else float(x))\n",
    "sorted_[\"Score-7\"] = sorted_[\"Score-7\"].apply(lambda x: 0.0 if x == \"Unknown\" else float(x))\n",
    "sorted_[\"Score-6\"] = sorted_[\"Score-6\"].apply(lambda x: 0.0 if x == \"Unknown\" else float(x))\n",
    "sorted_[\"Score-5\"] = sorted_[\"Score-5\"].apply(lambda x: 0.0 if x == \"Unknown\" else float(x))\n",
    "sorted_[\"Score-4\"] = sorted_[\"Score-4\"].apply(lambda x: 0.0 if x == \"Unknown\" else float(x))\n",
    "sorted_[\"Score-3\"] = sorted_[\"Score-3\"].apply(lambda x: 0.0 if x == \"Unknown\" else float(x))\n",
    "sorted_[\"Score-2\"] = sorted_[\"Score-2\"].apply(lambda x: 0.0 if x == \"Unknown\" else float(x))\n",
    "sorted_[\"Score-1\"] = sorted_[\"Score-1\"].apply(lambda x: 0.0 if x == \"Unknown\" else float(x))"
   ]
  },
  {
   "cell_type": "code",
   "execution_count": 4,
   "id": "5b1a72dc",
   "metadata": {},
   "outputs": [],
   "source": [
    "sorted_[\"all_score\"] = sorted_[\"Score-10\"] + sorted_[\"Score-9\"] + sorted_[\"Score-8\"] + sorted_[\"Score-7\"]+ \\\n",
    "                    sorted_[\"Score-6\"] + sorted_[\"Score-5\"] + sorted_[\"Score-4\"] + sorted_[\"Score-3\"] + \\\n",
    "                    sorted_[\"Score-2\"] + sorted_[\"Score-1\"]\n",
    "sorted_[\"positive\"] = (sorted_[\"Score-10\"]+ sorted_[\"Score-9\"]) / sorted_[\"all_score\"]\n",
    "sorted_[\"negative\"] = (sorted_[\"Score-1\"]+ sorted_[\"Score-2\"]+ sorted_[\"Score-3\"]+ sorted_[\"Score-4\"]+ sorted_[\"Score-5\"]+ sorted_[\"Score-6\"]) / sorted_[\"all_score\"]\n",
    "sorted_[\"NPS\"] = sorted_[\"positive\"] - sorted_[\"negative\"]\n",
    "sorted_.drop([\"Score-10\", \"Score-9\", \"Score-8\", \"Score-7\", \"Score-6\", \"Score-5\", \"Score-4\", \"Score-3\", \"Score-2\", \"Score-1\", \"positive\", \"negative\", \"all_score\"], \n",
    "           axis=1, inplace=True)"
   ]
  },
  {
   "cell_type": "code",
   "execution_count": 5,
   "id": "ba50f3c7",
   "metadata": {},
   "outputs": [
    {
     "data": {
      "text/html": [
       "<div>\n",
       "<style scoped>\n",
       "    .dataframe tbody tr th:only-of-type {\n",
       "        vertical-align: middle;\n",
       "    }\n",
       "\n",
       "    .dataframe tbody tr th {\n",
       "        vertical-align: top;\n",
       "    }\n",
       "\n",
       "    .dataframe thead th {\n",
       "        text-align: right;\n",
       "    }\n",
       "</style>\n",
       "<table border=\"1\" class=\"dataframe\">\n",
       "  <thead>\n",
       "    <tr style=\"text-align: right;\">\n",
       "      <th></th>\n",
       "      <th>MAL_ID</th>\n",
       "      <th>Name</th>\n",
       "      <th>Score</th>\n",
       "      <th>Genres</th>\n",
       "      <th>Episodes</th>\n",
       "      <th>Ranked</th>\n",
       "      <th>Popularity</th>\n",
       "      <th>Members</th>\n",
       "      <th>Favorites</th>\n",
       "      <th>Watching</th>\n",
       "      <th>Completed</th>\n",
       "      <th>On-Hold</th>\n",
       "      <th>Dropped</th>\n",
       "      <th>Plan to Watch</th>\n",
       "      <th>NPS</th>\n",
       "    </tr>\n",
       "  </thead>\n",
       "  <tbody>\n",
       "    <tr>\n",
       "      <th>0</th>\n",
       "      <td>1</td>\n",
       "      <td>Cowboy Bebop</td>\n",
       "      <td>8.78</td>\n",
       "      <td>Action, Adventure, Comedy, Drama, Sci-Fi, Space</td>\n",
       "      <td>26</td>\n",
       "      <td>28.0</td>\n",
       "      <td>39</td>\n",
       "      <td>1251960</td>\n",
       "      <td>61971</td>\n",
       "      <td>105808</td>\n",
       "      <td>718161</td>\n",
       "      <td>71513</td>\n",
       "      <td>26678</td>\n",
       "      <td>329800</td>\n",
       "      <td>0.584134</td>\n",
       "    </tr>\n",
       "    <tr>\n",
       "      <th>1</th>\n",
       "      <td>5</td>\n",
       "      <td>Cowboy Bebop: Tengoku no Tobira</td>\n",
       "      <td>8.39</td>\n",
       "      <td>Action, Drama, Mystery, Sci-Fi, Space</td>\n",
       "      <td>1</td>\n",
       "      <td>159.0</td>\n",
       "      <td>518</td>\n",
       "      <td>273145</td>\n",
       "      <td>1174</td>\n",
       "      <td>4143</td>\n",
       "      <td>208333</td>\n",
       "      <td>1935</td>\n",
       "      <td>770</td>\n",
       "      <td>57964</td>\n",
       "      <td>0.438269</td>\n",
       "    </tr>\n",
       "    <tr>\n",
       "      <th>2</th>\n",
       "      <td>6</td>\n",
       "      <td>Trigun</td>\n",
       "      <td>8.24</td>\n",
       "      <td>Action, Sci-Fi, Adventure, Comedy, Drama, Shounen</td>\n",
       "      <td>26</td>\n",
       "      <td>266.0</td>\n",
       "      <td>201</td>\n",
       "      <td>558913</td>\n",
       "      <td>12944</td>\n",
       "      <td>29113</td>\n",
       "      <td>343492</td>\n",
       "      <td>25465</td>\n",
       "      <td>13925</td>\n",
       "      <td>146918</td>\n",
       "      <td>0.353624</td>\n",
       "    </tr>\n",
       "    <tr>\n",
       "      <th>3</th>\n",
       "      <td>7</td>\n",
       "      <td>Witch Hunter Robin</td>\n",
       "      <td>7.27</td>\n",
       "      <td>Action, Mystery, Police, Supernatural, Drama, ...</td>\n",
       "      <td>26</td>\n",
       "      <td>2481.0</td>\n",
       "      <td>1467</td>\n",
       "      <td>94683</td>\n",
       "      <td>587</td>\n",
       "      <td>4300</td>\n",
       "      <td>46165</td>\n",
       "      <td>5121</td>\n",
       "      <td>5378</td>\n",
       "      <td>33719</td>\n",
       "      <td>-0.086254</td>\n",
       "    </tr>\n",
       "    <tr>\n",
       "      <th>4</th>\n",
       "      <td>8</td>\n",
       "      <td>Bouken Ou Beet</td>\n",
       "      <td>6.98</td>\n",
       "      <td>Adventure, Fantasy, Shounen, Supernatural</td>\n",
       "      <td>52</td>\n",
       "      <td>3710.0</td>\n",
       "      <td>4369</td>\n",
       "      <td>13224</td>\n",
       "      <td>18</td>\n",
       "      <td>642</td>\n",
       "      <td>7314</td>\n",
       "      <td>766</td>\n",
       "      <td>1108</td>\n",
       "      <td>3394</td>\n",
       "      <td>-0.217120</td>\n",
       "    </tr>\n",
       "    <tr>\n",
       "      <th>...</th>\n",
       "      <td>...</td>\n",
       "      <td>...</td>\n",
       "      <td>...</td>\n",
       "      <td>...</td>\n",
       "      <td>...</td>\n",
       "      <td>...</td>\n",
       "      <td>...</td>\n",
       "      <td>...</td>\n",
       "      <td>...</td>\n",
       "      <td>...</td>\n",
       "      <td>...</td>\n",
       "      <td>...</td>\n",
       "      <td>...</td>\n",
       "      <td>...</td>\n",
       "      <td>...</td>\n",
       "    </tr>\n",
       "    <tr>\n",
       "      <th>17504</th>\n",
       "      <td>47398</td>\n",
       "      <td>Kimetsu Gakuen: Valentine-hen</td>\n",
       "      <td>6.59</td>\n",
       "      <td>Comedy</td>\n",
       "      <td>4</td>\n",
       "      <td>5461.0</td>\n",
       "      <td>3814</td>\n",
       "      <td>18161</td>\n",
       "      <td>72</td>\n",
       "      <td>617</td>\n",
       "      <td>6978</td>\n",
       "      <td>118</td>\n",
       "      <td>62</td>\n",
       "      <td>10386</td>\n",
       "      <td>-0.349436</td>\n",
       "    </tr>\n",
       "    <tr>\n",
       "      <th>17505</th>\n",
       "      <td>47402</td>\n",
       "      <td>Heikousen</td>\n",
       "      <td>7.52</td>\n",
       "      <td>Music, Romance</td>\n",
       "      <td>1</td>\n",
       "      <td>1517.0</td>\n",
       "      <td>10869</td>\n",
       "      <td>832</td>\n",
       "      <td>27</td>\n",
       "      <td>17</td>\n",
       "      <td>549</td>\n",
       "      <td>8</td>\n",
       "      <td>1</td>\n",
       "      <td>257</td>\n",
       "      <td>0.202864</td>\n",
       "    </tr>\n",
       "    <tr>\n",
       "      <th>17512</th>\n",
       "      <td>47614</td>\n",
       "      <td>Nu Wushen de Canzhuo Spring Festival Special</td>\n",
       "      <td>6.83</td>\n",
       "      <td>Slice of Life, Comedy</td>\n",
       "      <td>1</td>\n",
       "      <td>4382.0</td>\n",
       "      <td>11973</td>\n",
       "      <td>540</td>\n",
       "      <td>8</td>\n",
       "      <td>51</td>\n",
       "      <td>168</td>\n",
       "      <td>18</td>\n",
       "      <td>2</td>\n",
       "      <td>301</td>\n",
       "      <td>-0.068376</td>\n",
       "    </tr>\n",
       "    <tr>\n",
       "      <th>17513</th>\n",
       "      <td>47616</td>\n",
       "      <td>Yakusoku no Neverland 2nd Season: Michishirube</td>\n",
       "      <td>4.81</td>\n",
       "      <td>Mystery, Psychological, Supernatural, Thriller...</td>\n",
       "      <td>1</td>\n",
       "      <td>10760.0</td>\n",
       "      <td>4398</td>\n",
       "      <td>13070</td>\n",
       "      <td>90</td>\n",
       "      <td>1183</td>\n",
       "      <td>8196</td>\n",
       "      <td>119</td>\n",
       "      <td>202</td>\n",
       "      <td>3370</td>\n",
       "      <td>-0.749838</td>\n",
       "    </tr>\n",
       "    <tr>\n",
       "      <th>17552</th>\n",
       "      <td>48456</td>\n",
       "      <td>SK∞: Crazy Rock Jam</td>\n",
       "      <td>6.52</td>\n",
       "      <td>Comedy, Sports</td>\n",
       "      <td>1</td>\n",
       "      <td>5799.0</td>\n",
       "      <td>4830</td>\n",
       "      <td>10722</td>\n",
       "      <td>167</td>\n",
       "      <td>739</td>\n",
       "      <td>7207</td>\n",
       "      <td>57</td>\n",
       "      <td>45</td>\n",
       "      <td>2674</td>\n",
       "      <td>-0.378579</td>\n",
       "    </tr>\n",
       "  </tbody>\n",
       "</table>\n",
       "<p>10995 rows × 15 columns</p>\n",
       "</div>"
      ],
      "text/plain": [
       "       MAL_ID                                            Name Score  \\\n",
       "0           1                                    Cowboy Bebop  8.78   \n",
       "1           5                 Cowboy Bebop: Tengoku no Tobira  8.39   \n",
       "2           6                                          Trigun  8.24   \n",
       "3           7                              Witch Hunter Robin  7.27   \n",
       "4           8                                  Bouken Ou Beet  6.98   \n",
       "...       ...                                             ...   ...   \n",
       "17504   47398                   Kimetsu Gakuen: Valentine-hen  6.59   \n",
       "17505   47402                                       Heikousen  7.52   \n",
       "17512   47614    Nu Wushen de Canzhuo Spring Festival Special  6.83   \n",
       "17513   47616  Yakusoku no Neverland 2nd Season: Michishirube  4.81   \n",
       "17552   48456                             SK∞: Crazy Rock Jam  6.52   \n",
       "\n",
       "                                                  Genres Episodes   Ranked  \\\n",
       "0        Action, Adventure, Comedy, Drama, Sci-Fi, Space       26     28.0   \n",
       "1                  Action, Drama, Mystery, Sci-Fi, Space        1    159.0   \n",
       "2      Action, Sci-Fi, Adventure, Comedy, Drama, Shounen       26    266.0   \n",
       "3      Action, Mystery, Police, Supernatural, Drama, ...       26   2481.0   \n",
       "4              Adventure, Fantasy, Shounen, Supernatural       52   3710.0   \n",
       "...                                                  ...      ...      ...   \n",
       "17504                                             Comedy        4   5461.0   \n",
       "17505                                     Music, Romance        1   1517.0   \n",
       "17512                              Slice of Life, Comedy        1   4382.0   \n",
       "17513  Mystery, Psychological, Supernatural, Thriller...        1  10760.0   \n",
       "17552                                     Comedy, Sports        1   5799.0   \n",
       "\n",
       "       Popularity  Members  Favorites  Watching  Completed  On-Hold  Dropped  \\\n",
       "0              39  1251960      61971    105808     718161    71513    26678   \n",
       "1             518   273145       1174      4143     208333     1935      770   \n",
       "2             201   558913      12944     29113     343492    25465    13925   \n",
       "3            1467    94683        587      4300      46165     5121     5378   \n",
       "4            4369    13224         18       642       7314      766     1108   \n",
       "...           ...      ...        ...       ...        ...      ...      ...   \n",
       "17504        3814    18161         72       617       6978      118       62   \n",
       "17505       10869      832         27        17        549        8        1   \n",
       "17512       11973      540          8        51        168       18        2   \n",
       "17513        4398    13070         90      1183       8196      119      202   \n",
       "17552        4830    10722        167       739       7207       57       45   \n",
       "\n",
       "       Plan to Watch       NPS  \n",
       "0             329800  0.584134  \n",
       "1              57964  0.438269  \n",
       "2             146918  0.353624  \n",
       "3              33719 -0.086254  \n",
       "4               3394 -0.217120  \n",
       "...              ...       ...  \n",
       "17504          10386 -0.349436  \n",
       "17505            257  0.202864  \n",
       "17512            301 -0.068376  \n",
       "17513           3370 -0.749838  \n",
       "17552           2674 -0.378579  \n",
       "\n",
       "[10995 rows x 15 columns]"
      ]
     },
     "execution_count": 5,
     "metadata": {},
     "output_type": "execute_result"
    }
   ],
   "source": [
    "sorted_"
   ]
  },
  {
   "cell_type": "code",
   "execution_count": 55,
   "id": "cad7f0b1",
   "metadata": {},
   "outputs": [],
   "source": [
    "norm_df = pd.DataFrame(data=sorted_[[\"Score\", \"NPS\", \"Popularity\"]])\n",
    "norm_df[\"Favorites\"] = sorted_[\"Favorites\"]/sorted_[\"Members\"]\n",
    "norm_df[\"Watching\"] = sorted_[\"Watching\"]/sorted_[\"Members\"]\n",
    "norm_df[\"Completed\"] = sorted_[\"Completed\"]/sorted_[\"Members\"]\n",
    "norm_df[\"On-Hold\"] = sorted_[\"On-Hold\"]/sorted_[\"Members\"]\n",
    "norm_df[\"Dropped\"] = sorted_[\"Dropped\"]/sorted_[\"Members\"]\n",
    "norm_df[\"Plan to Watch\"] = sorted_[\"Plan to Watch\"]/sorted_[\"Members\"]\n",
    "\n",
    "\n",
    "# norm_df.fillna(0, inplace=True)\n",
    "norm_df.dropna(inplace=True)\n",
    "norm_df.isna().sum()\n",
    "\n",
    "scaler = preprocessing.StandardScaler()\n",
    "norm_df = pd.DataFrame(scaler.fit_transform(norm_df), columns=norm_df.columns)"
   ]
  },
  {
   "cell_type": "code",
   "execution_count": 7,
   "id": "bbf12a60",
   "metadata": {},
   "outputs": [
    {
     "data": {
      "text/html": [
       "<div>\n",
       "<style scoped>\n",
       "    .dataframe tbody tr th:only-of-type {\n",
       "        vertical-align: middle;\n",
       "    }\n",
       "\n",
       "    .dataframe tbody tr th {\n",
       "        vertical-align: top;\n",
       "    }\n",
       "\n",
       "    .dataframe thead th {\n",
       "        text-align: right;\n",
       "    }\n",
       "</style>\n",
       "<table border=\"1\" class=\"dataframe\">\n",
       "  <thead>\n",
       "    <tr style=\"text-align: right;\">\n",
       "      <th></th>\n",
       "      <th>Score</th>\n",
       "      <th>NPS</th>\n",
       "      <th>Popularity</th>\n",
       "      <th>Favorites</th>\n",
       "      <th>Watching</th>\n",
       "      <th>Completed</th>\n",
       "      <th>On-Hold</th>\n",
       "      <th>Dropped</th>\n",
       "      <th>Plan to Watch</th>\n",
       "    </tr>\n",
       "  </thead>\n",
       "  <tbody>\n",
       "    <tr>\n",
       "      <th>0</th>\n",
       "      <td>0.944142</td>\n",
       "      <td>0.894263</td>\n",
       "      <td>0.002472</td>\n",
       "      <td>0.373494</td>\n",
       "      <td>0.109443</td>\n",
       "      <td>0.589137</td>\n",
       "      <td>0.251559</td>\n",
       "      <td>0.060763</td>\n",
       "      <td>0.259244</td>\n",
       "    </tr>\n",
       "    <tr>\n",
       "      <th>1</th>\n",
       "      <td>0.891008</td>\n",
       "      <td>0.808701</td>\n",
       "      <td>0.033630</td>\n",
       "      <td>0.032431</td>\n",
       "      <td>0.019642</td>\n",
       "      <td>0.783339</td>\n",
       "      <td>0.031198</td>\n",
       "      <td>0.008039</td>\n",
       "      <td>0.205104</td>\n",
       "    </tr>\n",
       "    <tr>\n",
       "      <th>2</th>\n",
       "      <td>0.870572</td>\n",
       "      <td>0.759049</td>\n",
       "      <td>0.013010</td>\n",
       "      <td>0.174747</td>\n",
       "      <td>0.067453</td>\n",
       "      <td>0.631186</td>\n",
       "      <td>0.200652</td>\n",
       "      <td>0.071044</td>\n",
       "      <td>0.258649</td>\n",
       "    </tr>\n",
       "    <tr>\n",
       "      <th>3</th>\n",
       "      <td>0.738420</td>\n",
       "      <td>0.501025</td>\n",
       "      <td>0.095362</td>\n",
       "      <td>0.046779</td>\n",
       "      <td>0.058810</td>\n",
       "      <td>0.500756</td>\n",
       "      <td>0.238192</td>\n",
       "      <td>0.161967</td>\n",
       "      <td>0.357233</td>\n",
       "    </tr>\n",
       "    <tr>\n",
       "      <th>4</th>\n",
       "      <td>0.698910</td>\n",
       "      <td>0.424262</td>\n",
       "      <td>0.284135</td>\n",
       "      <td>0.010271</td>\n",
       "      <td>0.062868</td>\n",
       "      <td>0.568038</td>\n",
       "      <td>0.255100</td>\n",
       "      <td>0.238921</td>\n",
       "      <td>0.252085</td>\n",
       "    </tr>\n",
       "    <tr>\n",
       "      <th>...</th>\n",
       "      <td>...</td>\n",
       "      <td>...</td>\n",
       "      <td>...</td>\n",
       "      <td>...</td>\n",
       "      <td>...</td>\n",
       "      <td>...</td>\n",
       "      <td>...</td>\n",
       "      <td>...</td>\n",
       "      <td>...</td>\n",
       "    </tr>\n",
       "    <tr>\n",
       "      <th>10990</th>\n",
       "      <td>0.645777</td>\n",
       "      <td>0.346647</td>\n",
       "      <td>0.248032</td>\n",
       "      <td>0.029914</td>\n",
       "      <td>0.043995</td>\n",
       "      <td>0.394617</td>\n",
       "      <td>0.028615</td>\n",
       "      <td>0.009735</td>\n",
       "      <td>0.585306</td>\n",
       "    </tr>\n",
       "    <tr>\n",
       "      <th>10991</th>\n",
       "      <td>0.772480</td>\n",
       "      <td>0.670616</td>\n",
       "      <td>0.706954</td>\n",
       "      <td>0.244865</td>\n",
       "      <td>0.026460</td>\n",
       "      <td>0.677695</td>\n",
       "      <td>0.042346</td>\n",
       "      <td>0.003427</td>\n",
       "      <td>0.307306</td>\n",
       "    </tr>\n",
       "    <tr>\n",
       "      <th>10992</th>\n",
       "      <td>0.678474</td>\n",
       "      <td>0.511512</td>\n",
       "      <td>0.778768</td>\n",
       "      <td>0.111785</td>\n",
       "      <td>0.122302</td>\n",
       "      <td>0.319522</td>\n",
       "      <td>0.146799</td>\n",
       "      <td>0.010561</td>\n",
       "      <td>0.570002</td>\n",
       "    </tr>\n",
       "    <tr>\n",
       "      <th>10993</th>\n",
       "      <td>0.403270</td>\n",
       "      <td>0.111779</td>\n",
       "      <td>0.286021</td>\n",
       "      <td>0.051958</td>\n",
       "      <td>0.117211</td>\n",
       "      <td>0.644038</td>\n",
       "      <td>0.040097</td>\n",
       "      <td>0.044071</td>\n",
       "      <td>0.253341</td>\n",
       "    </tr>\n",
       "    <tr>\n",
       "      <th>10994</th>\n",
       "      <td>0.636240</td>\n",
       "      <td>0.329553</td>\n",
       "      <td>0.314122</td>\n",
       "      <td>0.117524</td>\n",
       "      <td>0.089254</td>\n",
       "      <td>0.690341</td>\n",
       "      <td>0.023412</td>\n",
       "      <td>0.011968</td>\n",
       "      <td>0.244410</td>\n",
       "    </tr>\n",
       "  </tbody>\n",
       "</table>\n",
       "<p>10995 rows × 9 columns</p>\n",
       "</div>"
      ],
      "text/plain": [
       "          Score       NPS  Popularity  Favorites  Watching  Completed  \\\n",
       "0      0.944142  0.894263    0.002472   0.373494  0.109443   0.589137   \n",
       "1      0.891008  0.808701    0.033630   0.032431  0.019642   0.783339   \n",
       "2      0.870572  0.759049    0.013010   0.174747  0.067453   0.631186   \n",
       "3      0.738420  0.501025    0.095362   0.046779  0.058810   0.500756   \n",
       "4      0.698910  0.424262    0.284135   0.010271  0.062868   0.568038   \n",
       "...         ...       ...         ...        ...       ...        ...   \n",
       "10990  0.645777  0.346647    0.248032   0.029914  0.043995   0.394617   \n",
       "10991  0.772480  0.670616    0.706954   0.244865  0.026460   0.677695   \n",
       "10992  0.678474  0.511512    0.778768   0.111785  0.122302   0.319522   \n",
       "10993  0.403270  0.111779    0.286021   0.051958  0.117211   0.644038   \n",
       "10994  0.636240  0.329553    0.314122   0.117524  0.089254   0.690341   \n",
       "\n",
       "        On-Hold   Dropped  Plan to Watch  \n",
       "0      0.251559  0.060763       0.259244  \n",
       "1      0.031198  0.008039       0.205104  \n",
       "2      0.200652  0.071044       0.258649  \n",
       "3      0.238192  0.161967       0.357233  \n",
       "4      0.255100  0.238921       0.252085  \n",
       "...         ...       ...            ...  \n",
       "10990  0.028615  0.009735       0.585306  \n",
       "10991  0.042346  0.003427       0.307306  \n",
       "10992  0.146799  0.010561       0.570002  \n",
       "10993  0.040097  0.044071       0.253341  \n",
       "10994  0.023412  0.011968       0.244410  \n",
       "\n",
       "[10995 rows x 9 columns]"
      ]
     },
     "execution_count": 7,
     "metadata": {},
     "output_type": "execute_result"
    }
   ],
   "source": [
    "# norm_df[(norm_df[\"Dropped\"].isnull())]\n",
    "norm_df"
   ]
  },
  {
   "cell_type": "code",
   "execution_count": 8,
   "id": "03f32c30",
   "metadata": {},
   "outputs": [
    {
     "name": "stdout",
     "output_type": "stream",
     "text": [
      "Score\n"
     ]
    },
    {
     "data": {
      "image/png": "[encoded data removed]",
      "text/plain": [
       "<Figure size 432x288 with 1 Axes>"
      ]
     },
     "metadata": {
      "needs_background": "light"
     },
     "output_type": "display_data"
    },
    {
     "name": "stdout",
     "output_type": "stream",
     "text": [
      "NPS\n"
     ]
    },
    {
     "data": {
      "image/png": "[encoded data removed]",
      "text/plain": [
       "<Figure size 432x288 with 1 Axes>"
      ]
     },
     "metadata": {
      "needs_background": "light"
     },
     "output_type": "display_data"
    },
    {
     "name": "stdout",
     "output_type": "stream",
     "text": [
      "Popularity\n"
     ]
    },
    {
     "data": {
      "image/png": "[encoded data removed]",
      "text/plain": [
       "<Figure size 432x288 with 1 Axes>"
      ]
     },
     "metadata": {
      "needs_background": "light"
     },
     "output_type": "display_data"
    },
    {
     "name": "stdout",
     "output_type": "stream",
     "text": [
      "Favorites\n"
     ]
    },
    {
     "data": {
      "image/png": "[encoded data removed]",
      "text/plain": [
       "<Figure size 432x288 with 1 Axes>"
      ]
     },
     "metadata": {
      "needs_background": "light"
     },
     "output_type": "display_data"
    },
    {
     "name": "stdout",
     "output_type": "stream",
     "text": [
      "Watching\n"
     ]
    },
    {
     "data": {
      "image/png": "[encoded data removed]",
      "text/plain": [
       "<Figure size 432x288 with 1 Axes>"
      ]
     },
     "metadata": {
      "needs_background": "light"
     },
     "output_type": "display_data"
    },
    {
     "name": "stdout",
     "output_type": "stream",
     "text": [
      "Completed\n"
     ]
    },
    {
     "data": {
      "image/png": "[encoded data removed]",
      "text/plain": [
       "<Figure size 432x288 with 1 Axes>"
      ]
     },
     "metadata": {
      "needs_background": "light"
     },
     "output_type": "display_data"
    },
    {
     "name": "stdout",
     "output_type": "stream",
     "text": [
      "On-Hold\n"
     ]
    },
    {
     "data": {
      "image/png": "[encoded data removed]",
      "text/plain": [
       "<Figure size 432x288 with 1 Axes>"
      ]
     },
     "metadata": {
      "needs_background": "light"
     },
     "output_type": "display_data"
    },
    {
     "name": "stdout",
     "output_type": "stream",
     "text": [
      "Dropped\n"
     ]
    },
    {
     "data": {
      "image/png": "[encoded data removed]",
      "text/plain": [
       "<Figure size 432x288 with 1 Axes>"
      ]
     },
     "metadata": {
      "needs_background": "light"
     },
     "output_type": "display_data"
    },
    {
     "name": "stdout",
     "output_type": "stream",
     "text": [
      "Plan to Watch\n"
     ]
    },
    {
     "data": {
      "image/png": "[encoded data removed]",
      "text/plain": [
       "<Figure size 432x288 with 1 Axes>"
      ]
     },
     "metadata": {
      "needs_background": "light"
     },
     "output_type": "display_data"
    }
   ],
   "source": [
    "for column in norm_df.columns.values:\n",
    "    print(column)\n",
    "    plt.hist(norm_df[column], bins=100)\n",
    "    plt.show()"
   ]
  },
  {
   "cell_type": "code",
   "execution_count": 68,
   "id": "a475647c",
   "metadata": {},
   "outputs": [
    {
     "data": {
      "text/plain": [
       "[<matplotlib.lines.Line2D at 0x7fd452603490>]"
      ]
     },
     "execution_count": 68,
     "metadata": {},
     "output_type": "execute_result"
    },
    {
     "data": {
      "image/png": "[encoded data removed]",
      "text/plain": [
       "<Figure size 1440x1080 with 1 Axes>"
      ]
     },
     "metadata": {},
     "output_type": "display_data"
    }
   ],
   "source": [
    "neighbors = NearestNeighbors(n_neighbors=20)\n",
    "neighbors_fit = neighbors.fit(norm_df)\n",
    "distances, indices = neighbors_fit.kneighbors(norm_df)\n",
    "distances = np.sort(distances, axis=0)\n",
    "distances = distances[:,1]\n",
    "plt.style.use('fivethirtyeight')\n",
    "plt.figure(figsize=(20,15))\n",
    "plt.ylim(0, 1)\n",
    "plt.plot(distances)\n"
   ]
  },
  {
   "cell_type": "code",
   "execution_count": 85,
   "id": "311ee71a",
   "metadata": {},
   "outputs": [
    {
     "name": "stdout",
     "output_type": "stream",
     "text": [
      "40\n",
      "5 (-1 6947)\n",
      "4 (-1 6878)\n",
      "6 (-1 6676)\n",
      "5 (-1 6560)\n",
      "4 (-1 6427)\n",
      "4 (-1 6275)\n",
      "4 (-1 6152)\n",
      "3 (-1 6066)\n",
      "3 (-1 5930)\n",
      "3 (-1 5842)\n",
      "3 (-1 5758)\n",
      "2 (-1 5607)\n",
      "2 (0 5500)\n",
      "2 (0 5606)\n",
      "2 (0 5683)\n",
      "2 (0 5765)\n",
      "2 (0 5855)\n",
      "2 (0 5928)\n",
      "2 (0 5992)\n",
      "2 (0 6067)\n",
      "2 (0 6159)\n",
      "2 (0 6233)\n"
     ]
    },
    {
     "data": {
      "image/png": "[encoded data removed]",
      "text/plain": [
       "<Figure size 432x288 with 1 Axes>"
      ]
     },
     "metadata": {},
     "output_type": "display_data"
    },
    {
     "name": "stdout",
     "output_type": "stream",
     "text": [
      "45\n",
      "3 (-1 7310)\n",
      "3 (-1 7196)\n",
      "3 (-1 7088)\n",
      "3 (-1 7001)\n",
      "3 (-1 6905)\n",
      "4 (-1 6758)\n",
      "5 (-1 6550)\n",
      "5 (-1 6424)\n",
      "5 (-1 6296)\n",
      "4 (-1 6168)\n",
      "3 (-1 6021)\n",
      "3 (-1 5906)\n",
      "3 (-1 5787)\n",
      "3 (-1 5708)\n",
      "4 (-1 5600)\n",
      "2 (-1 5509)\n",
      "2 (0 5590)\n",
      "2 (0 5693)\n",
      "2 (0 5795)\n",
      "2 (0 5878)\n",
      "2 (0 5973)\n",
      "2 (0 6054)\n"
     ]
    },
    {
     "data": {
      "image/png": "[encoded data removed]",
      "text/plain": [
       "<Figure size 432x288 with 1 Axes>"
      ]
     },
     "metadata": {},
     "output_type": "display_data"
    },
    {
     "name": "stdout",
     "output_type": "stream",
     "text": [
      "50\n",
      "3 (-1 7555)\n",
      "3 (-1 7472)\n",
      "3 (-1 7340)\n",
      "3 (-1 7240)\n",
      "3 (-1 7134)\n",
      "3 (-1 7053)\n",
      "3 (-1 6929)\n",
      "3 (-1 6808)\n",
      "4 (-1 6659)\n",
      "5 (-1 6528)\n",
      "5 (-1 6438)\n",
      "3 (-1 6359)\n",
      "3 (-1 6130)\n",
      "3 (-1 6029)\n",
      "3 (-1 5886)\n",
      "3 (-1 5740)\n",
      "3 (-1 5660)\n",
      "3 (-1 5575)\n",
      "3 (-1 5509)\n",
      "2 (0 5589)\n",
      "2 (0 5731)\n",
      "2 (0 5852)\n"
     ]
    },
    {
     "data": {
      "image/png": "[encoded data removed]",
      "text/plain": [
       "<Figure size 432x288 with 1 Axes>"
      ]
     },
     "metadata": {},
     "output_type": "display_data"
    }
   ],
   "source": [
    "# Определяем модель\n",
    "# norm_df = norm_df.drop(['Clusters'], axis=1)\n",
    "samp_i = 40\n",
    "x = np.array([])\n",
    "y = np.array([])\n",
    "\n",
    "\n",
    "while samp_i <= 50:\n",
    "    print(samp_i)\n",
    "    eps_i = 0.6\n",
    "    while eps_i <= 0.71:\n",
    "    #     print(eps_i)\n",
    "        dbscan = DBSCAN(eps=eps_i,\n",
    "        min_samples=samp_i,)\n",
    "        dbscan.fit(norm_df)\n",
    "    \n",
    "        clustersL = dbscan.labels_.tolist()\n",
    "        print(f\"{len(set(clustersL))} ({max(clustersL,key=clustersL.count)} {Counter(clustersL).most_common(1)[0][1]})\")\n",
    "    #     print(len(set(clustersL)))\n",
    "        x = np.append(x, len(set(clustersL)))\n",
    "        y = np.append(y, eps_i)\n",
    "        eps_i += 0.005\n",
    "    #     print(Counter(clustersL).most_common(1)[0][1])\n",
    "    #     print('-'*100)\n",
    "    samp_i += 5\n",
    "    plt.plot(x, y, '-ok');\n",
    "    plt.show()\n",
    "    x = np.array([])\n",
    "    y = np.array([])\n",
    "    \n",
    "# Обучаем\n",
    "\n",
    "# Уменьшаем размерность при помощи метода главных компонент\n",
    "# pca = PCA(n_components=9).fit(norm_df)\n",
    "# pca_3d = pca.transform(norm_df)"
   ]
  },
  {
   "cell_type": "code",
   "execution_count": 88,
   "id": "bfa482df",
   "metadata": {},
   "outputs": [
    {
     "name": "stdout",
     "output_type": "stream",
     "text": [
      "{0, 1, 2, 3, -1}\n"
     ]
    }
   ],
   "source": [
    "dbscan = DBSCAN(eps=0.635,\n",
    "    min_samples=45,)\n",
    "dbscan.fit(norm_df)\n",
    "clustersL = dbscan.labels_.tolist()\n",
    "print(set(clustersL))"
   ]
  },
  {
   "cell_type": "code",
   "execution_count": 73,
   "id": "1bf305bd",
   "metadata": {},
   "outputs": [
    {
     "name": "stdout",
     "output_type": "stream",
     "text": [
      "4\n",
      "0\n",
      "5679\n"
     ]
    }
   ],
   "source": [
    "dbscan = DBSCAN(eps=0.6,\n",
    "    min_samples=20,)\n",
    "dbscan.fit(norm_df)\n",
    "clustersL = dbscan.labels_.tolist()\n",
    "print(len(set(clustersL)))\n",
    "print(max(clustersL,key=clustersL.count))\n",
    "print(Counter(clustersL).most_common(1)[0][1])"
   ]
  },
  {
   "cell_type": "code",
   "execution_count": 89,
   "id": "33026bfa",
   "metadata": {},
   "outputs": [],
   "source": [
    "norm_df['Clusters'] = dbscan.labels_"
   ]
  },
  {
   "cell_type": "code",
   "execution_count": 90,
   "id": "80ebab53",
   "metadata": {},
   "outputs": [
    {
     "name": "stdout",
     "output_type": "stream",
     "text": [
      "0\n",
      "             Score          NPS   Popularity    Favorites     Watching  \\\n",
      "count  4427.000000  4427.000000  4427.000000  4427.000000  4427.000000   \n",
      "mean     -0.143081    -0.182729     0.159206    -0.386362    -0.442876   \n",
      "std       0.904717     0.915235     0.899651     0.202884     0.217100   \n",
      "min      -2.826092    -2.021949    -1.519210    -0.596452    -0.874245   \n",
      "25%      -0.805551    -0.923680    -0.590851    -0.543462    -0.606555   \n",
      "50%      -0.072828    -0.178043     0.116995    -0.434627    -0.476216   \n",
      "75%       0.571080     0.541310     0.854001    -0.285539    -0.310740   \n",
      "max       1.992120     2.214038     2.254048     0.587529     0.553138   \n",
      "\n",
      "         Completed      On-Hold      Dropped  Plan to Watch  Clusters  \n",
      "count  4427.000000  4427.000000  4427.000000    4427.000000    4427.0  \n",
      "mean      0.530851    -0.611005    -0.504052      -0.305072       0.0  \n",
      "std       0.736663     0.381321     0.530098       0.841297       0.0  \n",
      "min      -1.332857    -1.372172    -1.094265      -2.140614       0.0  \n",
      "25%      -0.022743    -0.917298    -0.880237      -1.029264       0.0  \n",
      "50%       0.602738    -0.663597    -0.651041      -0.352788       0.0  \n",
      "75%       1.117359    -0.358945    -0.297308       0.355669       0.0  \n",
      "max       2.265674     0.730958     2.150021       1.817154       0.0  \n",
      "1\n",
      "           Score        NPS  Popularity  Favorites   Watching  Completed  \\\n",
      "count  62.000000  62.000000   62.000000  62.000000  62.000000  62.000000   \n",
      "mean    0.821768   0.774757   -1.406446   0.210844  -0.052677   0.759855   \n",
      "std     0.150600   0.172360    0.138716   0.223124   0.204186   0.158155   \n",
      "min     0.415654   0.324443   -1.565015  -0.311013  -0.499196   0.371976   \n",
      "25%     0.726506   0.663681   -1.506194   0.053422  -0.177797   0.638414   \n",
      "50%     0.815321   0.762861   -1.449376   0.227521  -0.061219   0.784690   \n",
      "75%     0.901361   0.909853   -1.347755   0.396391   0.069663   0.852827   \n",
      "max     1.181683   1.132971   -0.980817   0.633994   0.429724   1.058653   \n",
      "\n",
      "         On-Hold    Dropped  Plan to Watch  Clusters  \n",
      "count  62.000000  62.000000      62.000000      62.0  \n",
      "mean   -0.054227  -0.399380      -0.836382       1.0  \n",
      "std     0.224506   0.153638       0.166121       0.0  \n",
      "min    -0.465801  -0.767618      -1.157787       1.0  \n",
      "25%    -0.188441  -0.494715      -0.951960       1.0  \n",
      "50%    -0.082945  -0.376610      -0.844193       1.0  \n",
      "75%     0.101545  -0.288649      -0.717675       1.0  \n",
      "max     0.421395  -0.034619      -0.433634       1.0  \n",
      "2\n",
      "           Score        NPS  Popularity  Favorites   Watching  Completed  \\\n",
      "count  33.000000  33.000000   33.000000  33.000000  33.000000  33.000000   \n",
      "mean   -0.479224  -0.522036    1.316565  -0.548921  -0.163079  -0.851845   \n",
      "std     0.139409   0.180618    0.127448   0.105704   0.132065   0.185504   \n",
      "min    -0.727838  -0.888065    1.085152  -0.596452  -0.390535  -1.216028   \n",
      "25%    -0.616820  -0.661044    1.227071  -0.596452  -0.268020  -0.992963   \n",
      "50%    -0.483597  -0.524385    1.307417  -0.596452  -0.149081  -0.833966   \n",
      "75%    -0.394782  -0.400472    1.362984  -0.596452  -0.053365  -0.744051   \n",
      "max    -0.217152  -0.194562    1.628301  -0.212906   0.096348  -0.545792   \n",
      "\n",
      "         On-Hold    Dropped  Plan to Watch  Clusters  \n",
      "count  33.000000  33.000000      33.000000      33.0  \n",
      "mean    0.004751   1.057044       0.841178       2.0  \n",
      "std     0.189154   0.209218       0.210691       0.0  \n",
      "min    -0.419523   0.590964       0.483855       2.0  \n",
      "25%    -0.069382   0.897978       0.686150       2.0  \n",
      "50%     0.016609   1.056638       0.842414       2.0  \n",
      "75%     0.121170   1.213822       1.007473       2.0  \n",
      "max     0.379595   1.456842       1.272629       2.0  \n",
      "3\n",
      "           Score        NPS  Popularity  Favorites   Watching  Completed  \\\n",
      "count  49.000000  49.000000   49.000000  49.000000  49.000000  49.000000   \n",
      "mean    0.729905   0.625218   -1.208257  -0.047653   0.213706  -0.109398   \n",
      "std     0.134950   0.154411    0.161598   0.178603   0.202097   0.139442   \n",
      "min     0.415654   0.242605   -1.460640  -0.356324  -0.073510  -0.393210   \n",
      "25%     0.615488   0.513616   -1.350258  -0.169774   0.056375  -0.225040   \n",
      "50%     0.726506   0.604523   -1.213595  -0.090607   0.180547  -0.089918   \n",
      "75%     0.848627   0.757703   -1.118982   0.112643   0.282947  -0.008182   \n",
      "max     1.015155   0.945109   -0.840399   0.326691   0.666862   0.154867   \n",
      "\n",
      "         On-Hold    Dropped  Plan to Watch  Clusters  \n",
      "count  49.000000  49.000000      49.000000      49.0  \n",
      "mean    0.613684   0.004618      -0.012727       3.0  \n",
      "std     0.230153   0.207498       0.159026       0.0  \n",
      "min     0.155921  -0.428631      -0.317991       3.0  \n",
      "25%     0.452121  -0.135862      -0.138910       3.0  \n",
      "50%     0.611582   0.002877      -0.002280       3.0  \n",
      "75%     0.781318   0.149610       0.091454       3.0  \n",
      "max     0.979055   0.416385       0.330833       3.0  \n"
     ]
    }
   ],
   "source": [
    "# norm_df[(norm_df[\"Clusters\"] != -1)&(norm_df[\"Clusters\"] != 0)]\n",
    "\n",
    "for i in range(4):\n",
    "    print(i)\n",
    "    print(norm_df[(norm_df[\"Clusters\"] == i)].describe())"
   ]
  },
  {
   "cell_type": "code",
   "execution_count": 14,
   "id": "139987b2",
   "metadata": {},
   "outputs": [
    {
     "data": {
      "text/plain": [
       "array([-1,  0,  1,  4,  2,  3])"
      ]
     },
     "execution_count": 14,
     "metadata": {},
     "output_type": "execute_result"
    }
   ],
   "source": [
    "norm_df['Clusters'].unique()"
   ]
  },
  {
   "cell_type": "code",
   "execution_count": 15,
   "id": "1fb0236b",
   "metadata": {},
   "outputs": [
    {
     "data": {
      "image/png": "[encoded data removed]",
      "text/plain": [
       "<Figure size 1152x864 with 1 Axes>"
      ]
     },
     "metadata": {
      "needs_background": "light"
     },
     "output_type": "display_data"
    }
   ],
   "source": [
    "plt.figure(figsize=(16,12))\n",
    "X = norm_df\n",
    "\n",
    "core_samples_mask = np.zeros_like(dbscan.labels_, dtype=bool)\n",
    "unique_labels = set(dbscan.labels_)\n",
    "n_clusters_ = len(set(unique_labels)) - (1 if -1 in unique_labels else 0)\n",
    "\n",
    "colors = [plt.cm.Spectral(each)\n",
    "          for each in np.linspace(0, 1, len(unique_labels))]\n",
    "for k, col in zip(unique_labels, colors):\n",
    "    if k == -1:\n",
    "        # Black used for noise.\n",
    "        col = [0, 0, 0, 1]\n",
    "\n",
    "    class_member_mask = (unique_labels == k)\n",
    "\n",
    "    xy = X[class_member_mask & ~core_samples_mask]\n",
    "    plt.plot(xy.iloc[:, 4], xy.iloc[:, 1], 'o', markerfacecolor=tuple(col), markeredgecolor='k', markersize=10)\n",
    "    ax = plt.gca()\n",
    "    ax.set_xlabel('Company_Location_label', fontsize=15)\n",
    "    ax.set_ylabel('Rating', fontsize=15)\n",
    "\n",
    "plt.title('Estimated number of clusters: %d' % n_clusters_)\n",
    "plt.show()"
   ]
  },
  {
   "cell_type": "code",
   "execution_count": 16,
   "id": "afd27f28",
   "metadata": {},
   "outputs": [],
   "source": [
    "new_df = df.Genres.str.split(', ', expand=True).stack().value_counts().reset_index()\n",
    " \n",
    "new_df.columns = ['Name', 'Frequency'] \n",
    "genresNames = new_df['Name']\n",
    "animeNames = df['Name']\n",
    "# pd.set_option('display.max_rows', 15)\n",
    "\n",
    "new_df.sort_values(by=['Frequency'], ascending=False)\n",
    "genres = pd.DataFrame(new_df['Name'])\n",
    "genres.set_index('Name', inplace=True)\n",
    "genres= genres.T\n",
    "genres[['Name', 'Genres']] = df[['Name', 'Genres']]\n",
    "genres.set_index('Name', inplace=True)\n",
    "# print(genres.columns) "
   ]
  },
  {
   "cell_type": "code",
   "execution_count": 17,
   "id": "2f1cbc30",
   "metadata": {},
   "outputs": [
    {
     "data": {
      "text/html": [
       "<div>\n",
       "<style scoped>\n",
       "    .dataframe tbody tr th:only-of-type {\n",
       "        vertical-align: middle;\n",
       "    }\n",
       "\n",
       "    .dataframe tbody tr th {\n",
       "        vertical-align: top;\n",
       "    }\n",
       "\n",
       "    .dataframe thead th {\n",
       "        text-align: right;\n",
       "    }\n",
       "</style>\n",
       "<table border=\"1\" class=\"dataframe\">\n",
       "  <thead>\n",
       "    <tr style=\"text-align: right;\">\n",
       "      <th>Name</th>\n",
       "      <th>Comedy</th>\n",
       "      <th>Action</th>\n",
       "      <th>Fantasy</th>\n",
       "      <th>Adventure</th>\n",
       "      <th>Kids</th>\n",
       "      <th>Drama</th>\n",
       "      <th>Sci-Fi</th>\n",
       "      <th>Music</th>\n",
       "      <th>Shounen</th>\n",
       "      <th>Slice of Life</th>\n",
       "      <th>...</th>\n",
       "      <th>Vampire</th>\n",
       "      <th>Cars</th>\n",
       "      <th>Thriller</th>\n",
       "      <th>Shounen Ai</th>\n",
       "      <th>Josei</th>\n",
       "      <th>Shoujo Ai</th>\n",
       "      <th>Unknown</th>\n",
       "      <th>Yaoi</th>\n",
       "      <th>Yuri</th>\n",
       "      <th>Genres</th>\n",
       "    </tr>\n",
       "    <tr>\n",
       "      <th>Name</th>\n",
       "      <th></th>\n",
       "      <th></th>\n",
       "      <th></th>\n",
       "      <th></th>\n",
       "      <th></th>\n",
       "      <th></th>\n",
       "      <th></th>\n",
       "      <th></th>\n",
       "      <th></th>\n",
       "      <th></th>\n",
       "      <th></th>\n",
       "      <th></th>\n",
       "      <th></th>\n",
       "      <th></th>\n",
       "      <th></th>\n",
       "      <th></th>\n",
       "      <th></th>\n",
       "      <th></th>\n",
       "      <th></th>\n",
       "      <th></th>\n",
       "      <th></th>\n",
       "    </tr>\n",
       "  </thead>\n",
       "  <tbody>\n",
       "    <tr>\n",
       "      <th>Cowboy Bebop</th>\n",
       "      <td>NaN</td>\n",
       "      <td>NaN</td>\n",
       "      <td>NaN</td>\n",
       "      <td>NaN</td>\n",
       "      <td>NaN</td>\n",
       "      <td>NaN</td>\n",
       "      <td>NaN</td>\n",
       "      <td>NaN</td>\n",
       "      <td>NaN</td>\n",
       "      <td>NaN</td>\n",
       "      <td>...</td>\n",
       "      <td>NaN</td>\n",
       "      <td>NaN</td>\n",
       "      <td>NaN</td>\n",
       "      <td>NaN</td>\n",
       "      <td>NaN</td>\n",
       "      <td>NaN</td>\n",
       "      <td>NaN</td>\n",
       "      <td>NaN</td>\n",
       "      <td>NaN</td>\n",
       "      <td>Action, Adventure, Comedy, Drama, Sci-Fi, Space</td>\n",
       "    </tr>\n",
       "    <tr>\n",
       "      <th>Cowboy Bebop: Tengoku no Tobira</th>\n",
       "      <td>NaN</td>\n",
       "      <td>NaN</td>\n",
       "      <td>NaN</td>\n",
       "      <td>NaN</td>\n",
       "      <td>NaN</td>\n",
       "      <td>NaN</td>\n",
       "      <td>NaN</td>\n",
       "      <td>NaN</td>\n",
       "      <td>NaN</td>\n",
       "      <td>NaN</td>\n",
       "      <td>...</td>\n",
       "      <td>NaN</td>\n",
       "      <td>NaN</td>\n",
       "      <td>NaN</td>\n",
       "      <td>NaN</td>\n",
       "      <td>NaN</td>\n",
       "      <td>NaN</td>\n",
       "      <td>NaN</td>\n",
       "      <td>NaN</td>\n",
       "      <td>NaN</td>\n",
       "      <td>Action, Drama, Mystery, Sci-Fi, Space</td>\n",
       "    </tr>\n",
       "    <tr>\n",
       "      <th>Trigun</th>\n",
       "      <td>NaN</td>\n",
       "      <td>NaN</td>\n",
       "      <td>NaN</td>\n",
       "      <td>NaN</td>\n",
       "      <td>NaN</td>\n",
       "      <td>NaN</td>\n",
       "      <td>NaN</td>\n",
       "      <td>NaN</td>\n",
       "      <td>NaN</td>\n",
       "      <td>NaN</td>\n",
       "      <td>...</td>\n",
       "      <td>NaN</td>\n",
       "      <td>NaN</td>\n",
       "      <td>NaN</td>\n",
       "      <td>NaN</td>\n",
       "      <td>NaN</td>\n",
       "      <td>NaN</td>\n",
       "      <td>NaN</td>\n",
       "      <td>NaN</td>\n",
       "      <td>NaN</td>\n",
       "      <td>Action, Sci-Fi, Adventure, Comedy, Drama, Shounen</td>\n",
       "    </tr>\n",
       "    <tr>\n",
       "      <th>Witch Hunter Robin</th>\n",
       "      <td>NaN</td>\n",
       "      <td>NaN</td>\n",
       "      <td>NaN</td>\n",
       "      <td>NaN</td>\n",
       "      <td>NaN</td>\n",
       "      <td>NaN</td>\n",
       "      <td>NaN</td>\n",
       "      <td>NaN</td>\n",
       "      <td>NaN</td>\n",
       "      <td>NaN</td>\n",
       "      <td>...</td>\n",
       "      <td>NaN</td>\n",
       "      <td>NaN</td>\n",
       "      <td>NaN</td>\n",
       "      <td>NaN</td>\n",
       "      <td>NaN</td>\n",
       "      <td>NaN</td>\n",
       "      <td>NaN</td>\n",
       "      <td>NaN</td>\n",
       "      <td>NaN</td>\n",
       "      <td>Action, Mystery, Police, Supernatural, Drama, ...</td>\n",
       "    </tr>\n",
       "    <tr>\n",
       "      <th>Bouken Ou Beet</th>\n",
       "      <td>NaN</td>\n",
       "      <td>NaN</td>\n",
       "      <td>NaN</td>\n",
       "      <td>NaN</td>\n",
       "      <td>NaN</td>\n",
       "      <td>NaN</td>\n",
       "      <td>NaN</td>\n",
       "      <td>NaN</td>\n",
       "      <td>NaN</td>\n",
       "      <td>NaN</td>\n",
       "      <td>...</td>\n",
       "      <td>NaN</td>\n",
       "      <td>NaN</td>\n",
       "      <td>NaN</td>\n",
       "      <td>NaN</td>\n",
       "      <td>NaN</td>\n",
       "      <td>NaN</td>\n",
       "      <td>NaN</td>\n",
       "      <td>NaN</td>\n",
       "      <td>NaN</td>\n",
       "      <td>Adventure, Fantasy, Shounen, Supernatural</td>\n",
       "    </tr>\n",
       "    <tr>\n",
       "      <th>...</th>\n",
       "      <td>...</td>\n",
       "      <td>...</td>\n",
       "      <td>...</td>\n",
       "      <td>...</td>\n",
       "      <td>...</td>\n",
       "      <td>...</td>\n",
       "      <td>...</td>\n",
       "      <td>...</td>\n",
       "      <td>...</td>\n",
       "      <td>...</td>\n",
       "      <td>...</td>\n",
       "      <td>...</td>\n",
       "      <td>...</td>\n",
       "      <td>...</td>\n",
       "      <td>...</td>\n",
       "      <td>...</td>\n",
       "      <td>...</td>\n",
       "      <td>...</td>\n",
       "      <td>...</td>\n",
       "      <td>...</td>\n",
       "      <td>...</td>\n",
       "    </tr>\n",
       "    <tr>\n",
       "      <th>Daomu Biji Zhi Qinling Shen Shu</th>\n",
       "      <td>NaN</td>\n",
       "      <td>NaN</td>\n",
       "      <td>NaN</td>\n",
       "      <td>NaN</td>\n",
       "      <td>NaN</td>\n",
       "      <td>NaN</td>\n",
       "      <td>NaN</td>\n",
       "      <td>NaN</td>\n",
       "      <td>NaN</td>\n",
       "      <td>NaN</td>\n",
       "      <td>...</td>\n",
       "      <td>NaN</td>\n",
       "      <td>NaN</td>\n",
       "      <td>NaN</td>\n",
       "      <td>NaN</td>\n",
       "      <td>NaN</td>\n",
       "      <td>NaN</td>\n",
       "      <td>NaN</td>\n",
       "      <td>NaN</td>\n",
       "      <td>NaN</td>\n",
       "      <td>Adventure, Mystery, Supernatural</td>\n",
       "    </tr>\n",
       "    <tr>\n",
       "      <th>Mieruko-chan</th>\n",
       "      <td>NaN</td>\n",
       "      <td>NaN</td>\n",
       "      <td>NaN</td>\n",
       "      <td>NaN</td>\n",
       "      <td>NaN</td>\n",
       "      <td>NaN</td>\n",
       "      <td>NaN</td>\n",
       "      <td>NaN</td>\n",
       "      <td>NaN</td>\n",
       "      <td>NaN</td>\n",
       "      <td>...</td>\n",
       "      <td>NaN</td>\n",
       "      <td>NaN</td>\n",
       "      <td>NaN</td>\n",
       "      <td>NaN</td>\n",
       "      <td>NaN</td>\n",
       "      <td>NaN</td>\n",
       "      <td>NaN</td>\n",
       "      <td>NaN</td>\n",
       "      <td>NaN</td>\n",
       "      <td>Comedy, Horror, Supernatural</td>\n",
       "    </tr>\n",
       "    <tr>\n",
       "      <th>Higurashi no Naku Koro ni Sotsu</th>\n",
       "      <td>NaN</td>\n",
       "      <td>NaN</td>\n",
       "      <td>NaN</td>\n",
       "      <td>NaN</td>\n",
       "      <td>NaN</td>\n",
       "      <td>NaN</td>\n",
       "      <td>NaN</td>\n",
       "      <td>NaN</td>\n",
       "      <td>NaN</td>\n",
       "      <td>NaN</td>\n",
       "      <td>...</td>\n",
       "      <td>NaN</td>\n",
       "      <td>NaN</td>\n",
       "      <td>NaN</td>\n",
       "      <td>NaN</td>\n",
       "      <td>NaN</td>\n",
       "      <td>NaN</td>\n",
       "      <td>NaN</td>\n",
       "      <td>NaN</td>\n",
       "      <td>NaN</td>\n",
       "      <td>Mystery, Dementia, Horror, Psychological, Supe...</td>\n",
       "    </tr>\n",
       "    <tr>\n",
       "      <th>Yama no Susume: Next Summit</th>\n",
       "      <td>NaN</td>\n",
       "      <td>NaN</td>\n",
       "      <td>NaN</td>\n",
       "      <td>NaN</td>\n",
       "      <td>NaN</td>\n",
       "      <td>NaN</td>\n",
       "      <td>NaN</td>\n",
       "      <td>NaN</td>\n",
       "      <td>NaN</td>\n",
       "      <td>NaN</td>\n",
       "      <td>...</td>\n",
       "      <td>NaN</td>\n",
       "      <td>NaN</td>\n",
       "      <td>NaN</td>\n",
       "      <td>NaN</td>\n",
       "      <td>NaN</td>\n",
       "      <td>NaN</td>\n",
       "      <td>NaN</td>\n",
       "      <td>NaN</td>\n",
       "      <td>NaN</td>\n",
       "      <td>Adventure, Slice of Life, Comedy</td>\n",
       "    </tr>\n",
       "    <tr>\n",
       "      <th>Scarlet Nexus</th>\n",
       "      <td>NaN</td>\n",
       "      <td>NaN</td>\n",
       "      <td>NaN</td>\n",
       "      <td>NaN</td>\n",
       "      <td>NaN</td>\n",
       "      <td>NaN</td>\n",
       "      <td>NaN</td>\n",
       "      <td>NaN</td>\n",
       "      <td>NaN</td>\n",
       "      <td>NaN</td>\n",
       "      <td>...</td>\n",
       "      <td>NaN</td>\n",
       "      <td>NaN</td>\n",
       "      <td>NaN</td>\n",
       "      <td>NaN</td>\n",
       "      <td>NaN</td>\n",
       "      <td>NaN</td>\n",
       "      <td>NaN</td>\n",
       "      <td>NaN</td>\n",
       "      <td>NaN</td>\n",
       "      <td>Action, Fantasy</td>\n",
       "    </tr>\n",
       "  </tbody>\n",
       "</table>\n",
       "<p>17562 rows × 45 columns</p>\n",
       "</div>"
      ],
      "text/plain": [
       "Name                             Comedy  Action  Fantasy  Adventure  Kids  \\\n",
       "Name                                                                        \n",
       "Cowboy Bebop                        NaN     NaN      NaN        NaN   NaN   \n",
       "Cowboy Bebop: Tengoku no Tobira     NaN     NaN      NaN        NaN   NaN   \n",
       "Trigun                              NaN     NaN      NaN        NaN   NaN   \n",
       "Witch Hunter Robin                  NaN     NaN      NaN        NaN   NaN   \n",
       "Bouken Ou Beet                      NaN     NaN      NaN        NaN   NaN   \n",
       "...                                 ...     ...      ...        ...   ...   \n",
       "Daomu Biji Zhi Qinling Shen Shu     NaN     NaN      NaN        NaN   NaN   \n",
       "Mieruko-chan                        NaN     NaN      NaN        NaN   NaN   \n",
       "Higurashi no Naku Koro ni Sotsu     NaN     NaN      NaN        NaN   NaN   \n",
       "Yama no Susume: Next Summit         NaN     NaN      NaN        NaN   NaN   \n",
       "Scarlet Nexus                       NaN     NaN      NaN        NaN   NaN   \n",
       "\n",
       "Name                             Drama  Sci-Fi  Music  Shounen  Slice of Life  \\\n",
       "Name                                                                            \n",
       "Cowboy Bebop                       NaN     NaN    NaN      NaN            NaN   \n",
       "Cowboy Bebop: Tengoku no Tobira    NaN     NaN    NaN      NaN            NaN   \n",
       "Trigun                             NaN     NaN    NaN      NaN            NaN   \n",
       "Witch Hunter Robin                 NaN     NaN    NaN      NaN            NaN   \n",
       "Bouken Ou Beet                     NaN     NaN    NaN      NaN            NaN   \n",
       "...                                ...     ...    ...      ...            ...   \n",
       "Daomu Biji Zhi Qinling Shen Shu    NaN     NaN    NaN      NaN            NaN   \n",
       "Mieruko-chan                       NaN     NaN    NaN      NaN            NaN   \n",
       "Higurashi no Naku Koro ni Sotsu    NaN     NaN    NaN      NaN            NaN   \n",
       "Yama no Susume: Next Summit        NaN     NaN    NaN      NaN            NaN   \n",
       "Scarlet Nexus                      NaN     NaN    NaN      NaN            NaN   \n",
       "\n",
       "Name                             ...  Vampire  Cars  Thriller  Shounen Ai  \\\n",
       "Name                             ...                                        \n",
       "Cowboy Bebop                     ...      NaN   NaN       NaN         NaN   \n",
       "Cowboy Bebop: Tengoku no Tobira  ...      NaN   NaN       NaN         NaN   \n",
       "Trigun                           ...      NaN   NaN       NaN         NaN   \n",
       "Witch Hunter Robin               ...      NaN   NaN       NaN         NaN   \n",
       "Bouken Ou Beet                   ...      NaN   NaN       NaN         NaN   \n",
       "...                              ...      ...   ...       ...         ...   \n",
       "Daomu Biji Zhi Qinling Shen Shu  ...      NaN   NaN       NaN         NaN   \n",
       "Mieruko-chan                     ...      NaN   NaN       NaN         NaN   \n",
       "Higurashi no Naku Koro ni Sotsu  ...      NaN   NaN       NaN         NaN   \n",
       "Yama no Susume: Next Summit      ...      NaN   NaN       NaN         NaN   \n",
       "Scarlet Nexus                    ...      NaN   NaN       NaN         NaN   \n",
       "\n",
       "Name                             Josei  Shoujo Ai  Unknown  Yaoi  Yuri  \\\n",
       "Name                                                                     \n",
       "Cowboy Bebop                       NaN        NaN      NaN   NaN   NaN   \n",
       "Cowboy Bebop: Tengoku no Tobira    NaN        NaN      NaN   NaN   NaN   \n",
       "Trigun                             NaN        NaN      NaN   NaN   NaN   \n",
       "Witch Hunter Robin                 NaN        NaN      NaN   NaN   NaN   \n",
       "Bouken Ou Beet                     NaN        NaN      NaN   NaN   NaN   \n",
       "...                                ...        ...      ...   ...   ...   \n",
       "Daomu Biji Zhi Qinling Shen Shu    NaN        NaN      NaN   NaN   NaN   \n",
       "Mieruko-chan                       NaN        NaN      NaN   NaN   NaN   \n",
       "Higurashi no Naku Koro ni Sotsu    NaN        NaN      NaN   NaN   NaN   \n",
       "Yama no Susume: Next Summit        NaN        NaN      NaN   NaN   NaN   \n",
       "Scarlet Nexus                      NaN        NaN      NaN   NaN   NaN   \n",
       "\n",
       "Name                                                                        Genres  \n",
       "Name                                                                                \n",
       "Cowboy Bebop                       Action, Adventure, Comedy, Drama, Sci-Fi, Space  \n",
       "Cowboy Bebop: Tengoku no Tobira              Action, Drama, Mystery, Sci-Fi, Space  \n",
       "Trigun                           Action, Sci-Fi, Adventure, Comedy, Drama, Shounen  \n",
       "Witch Hunter Robin               Action, Mystery, Police, Supernatural, Drama, ...  \n",
       "Bouken Ou Beet                           Adventure, Fantasy, Shounen, Supernatural  \n",
       "...                                                                            ...  \n",
       "Daomu Biji Zhi Qinling Shen Shu                   Adventure, Mystery, Supernatural  \n",
       "Mieruko-chan                                          Comedy, Horror, Supernatural  \n",
       "Higurashi no Naku Koro ni Sotsu  Mystery, Dementia, Horror, Psychological, Supe...  \n",
       "Yama no Susume: Next Summit                       Adventure, Slice of Life, Comedy  \n",
       "Scarlet Nexus                                                      Action, Fantasy  \n",
       "\n",
       "[17562 rows x 45 columns]"
      ]
     },
     "execution_count": 17,
     "metadata": {},
     "output_type": "execute_result"
    }
   ],
   "source": [
    "genres"
   ]
  },
  {
   "cell_type": "code",
   "execution_count": 18,
   "id": "221ad5e6",
   "metadata": {},
   "outputs": [
    {
     "name": "stderr",
     "output_type": "stream",
     "text": [
      "/tmp/ipykernel_29420/1123277970.py:4: SettingWithCopyWarning: \n",
      "A value is trying to be set on a copy of a slice from a DataFrame\n",
      "\n",
      "See the caveats in the documentation: https://pandas.pydata.org/pandas-docs/stable/user_guide/indexing.html#returning-a-view-versus-a-copy\n",
      "  genres[genre][anime] = 1\n"
     ]
    }
   ],
   "source": [
    "for genre in genresNames:\n",
    "    for anime in animeNames:\n",
    "        if genre in genres['Genres'][anime]:\n",
    "            genres[genre][anime] = 1"
   ]
  },
  {
   "cell_type": "code",
   "execution_count": 28,
   "id": "a57bf83c",
   "metadata": {},
   "outputs": [],
   "source": [
    "genres.fillna(0, inplace = True)"
   ]
  },
  {
   "cell_type": "code",
   "execution_count": 24,
   "id": "653ec5e4",
   "metadata": {},
   "outputs": [
    {
     "data": {
      "text/plain": [
       "<AxesSubplot:xlabel='Comedy', ylabel='Action'>"
      ]
     },
     "execution_count": 24,
     "metadata": {},
     "output_type": "execute_result"
    },
    {
     "data": {
      "image/png": "[encoded data removed]",
      "text/plain": [
       "<Figure size 432x288 with 1 Axes>"
      ]
     },
     "metadata": {
      "needs_background": "light"
     },
     "output_type": "display_data"
    }
   ],
   "source": [
    "# plt.plot(genres['Comedy'], genres['Action'])\n",
    "# plt.ylabel('some numbers')\n",
    "# plt.show()\n",
    "genres.plot.scatter(x='Comedy',\n",
    "                    y='Action',\n",
    "                    c='DarkBlue')"
   ]
  },
  {
   "cell_type": "code",
   "execution_count": 37,
   "id": "878be8b5",
   "metadata": {},
   "outputs": [],
   "source": [
    "genres.drop(columns = ['Genres'], inplace = True)"
   ]
  },
  {
   "cell_type": "code",
   "execution_count": 38,
   "id": "bcbb7cc7",
   "metadata": {},
   "outputs": [
    {
     "data": {
      "text/plain": [
       "[<matplotlib.lines.Line2D at 0x7fd453340220>]"
      ]
     },
     "execution_count": 38,
     "metadata": {},
     "output_type": "execute_result"
    },
    {
     "data": {
      "image/png": "[encoded data removed]",
      "text/plain": [
       "<Figure size 432x288 with 1 Axes>"
      ]
     },
     "metadata": {
      "needs_background": "light"
     },
     "output_type": "display_data"
    }
   ],
   "source": [
    "neighbors = NearestNeighbors(n_neighbors=20)\n",
    "neighbors_fit = neighbors.fit(genres)\n",
    "distances, indices = neighbors_fit.kneighbors(genres)\n",
    "distances = np.sort(distances, axis=0)\n",
    "distances = distances[:,1]\n",
    "plt.plot(distances)"
   ]
  },
  {
   "cell_type": "code",
   "execution_count": 53,
   "id": "32ea941c",
   "metadata": {},
   "outputs": [
    {
     "name": "stdout",
     "output_type": "stream",
     "text": [
      "2\n",
      "0\n",
      "16240\n"
     ]
    }
   ],
   "source": [
    "dbscan = DBSCAN(eps=1.00,\n",
    "    min_samples=20,)\n",
    "dbscan.fit(genres)\n",
    "clustersL = dbscan.labels_.tolist()\n",
    "print(len(set(clustersL)))\n",
    "print(max(clustersL,key=clustersL.count))\n",
    "print(Counter(clustersL).most_common(1)[0][1])"
   ]
  }
 ],
 "metadata": {
  "kernelspec": {
   "display_name": "Python 3 (ipykernel)",
   "language": "python",
   "name": "python3"
  },
  "language_info": {
   "codemirror_mode": {
    "name": "ipython",
    "version": 3
   },
   "file_extension": ".py",
   "mimetype": "text/x-python",
   "name": "python",
   "nbconvert_exporter": "python",
   "pygments_lexer": "ipython3",
   "version": "3.8.10"
  }
 },
 "nbformat": 4,
 "nbformat_minor": 5
}
