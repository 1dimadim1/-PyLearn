{
 "cells": [
  {
   "cell_type": "markdown",
   "id": "50fb949a",
   "metadata": {},
   "source": [
    "###### ДЗ 1 Классификация\n",
    "\n",
    "*Креативная часть:* найти парамеры и комбинации их, которые будут увеличивать accuracy\n",
    "\n",
    "*Техническая часть:* сделать под это всё удобные обёртки. Например, это функция, которая просто принимает список фичей, а на выходе показывает результат фита"
   ]
  },
  {
   "cell_type": "code",
   "execution_count": 1,
   "id": "d87ac26b",
   "metadata": {},
   "outputs": [],
   "source": [
    "import pandas as pd\n",
    "import numpy as np\n",
    "from sklearn import datasets, linear_model, model_selection\n",
    "from sklearn.preprocessing import OrdinalEncoder\n",
    "import matplotlib.pyplot as plt\n",
    "from scipy.stats import linregress"
   ]
  },
  {
   "cell_type": "code",
   "execution_count": 2,
   "id": "88b01ff3",
   "metadata": {},
   "outputs": [],
   "source": [
    "def regres_accuracy(df, X, Y):\n",
    "    \n",
    "#     alldata = df[X + Y]\n",
    "#     alldata = alldata.sample(frac=1)    \n",
    "    allinput = df[X]\n",
    "    alloutput = df[Y]\n",
    "    \n",
    "    chunk_80 = int(len(df) * 0.8)\n",
    "    X_train = allinput[ :chunk_80]\n",
    "    Y_train = alloutput[ :chunk_80]\n",
    "    X_test = allinput[chunk_80: ]\n",
    "    Y_test = alloutput[chunk_80: ]\n",
    "#     X_train, X_test, Y_train, Y_test = model_selection.train_test_split(allinput, alloutput, test_size=0.2)\n",
    "    \n",
    "    model = linear_model.LogisticRegression()\n",
    "    model.fit(X_train, Y_train.values.ravel())\n",
    "    \n",
    "    return model.score(X_train, Y_train)"
   ]
  },
  {
   "cell_type": "code",
   "execution_count": 3,
   "id": "cdaf1ff6",
   "metadata": {},
   "outputs": [],
   "source": [
    "def show_graph(x,y, xLabel, yLabel):\n",
    "    plt.xlabel(xLabel)\n",
    "    plt.ylabel(yLabel)\n",
    "    plt.plot(x, np.poly1d(np.polyfit(x, y, 1))(x),\"r--\")\n",
    "    plt.scatter(x, y)\n",
    "    plt.show()    "
   ]
  },
  {
   "cell_type": "code",
   "execution_count": 4,
   "id": "049b78e2",
   "metadata": {},
   "outputs": [],
   "source": [
    "# Читаем источник\n",
    "PATH = \"./athletes_sochi.txt\"\n",
    "df = pd.read_csv(PATH).dropna()\n",
    "\n",
    "df[\"gender_n\"] = df[\"gender\"].apply(lambda x: int(x == \"Male\"))\n",
    "df[\"BMI\"] = df[\"weight\"] / (df[\"height\"]**2)"
   ]
  },
  {
   "cell_type": "code",
   "execution_count": 5,
   "id": "f184c90d",
   "metadata": {},
   "outputs": [
    {
     "name": "stderr",
     "output_type": "stream",
     "text": [
      "C:\\Program Files (x86)\\Microsoft Visual Studio\\Shared\\Python37_64\\lib\\site-packages\\matplotlib\\cbook\\__init__.py:1402: FutureWarning: Support for multi-dimensional indexing (e.g. `obj[:, None]`) is deprecated and will be removed in a future version.  Convert to a numpy array before indexing instead.\n",
      "  x[:, None]\n",
      "C:\\Program Files (x86)\\Microsoft Visual Studio\\Shared\\Python37_64\\lib\\site-packages\\matplotlib\\axes\\_base.py:276: FutureWarning: Support for multi-dimensional indexing (e.g. `obj[:, None]`) is deprecated and will be removed in a future version.  Convert to a numpy array before indexing instead.\n",
      "  x = x[:, np.newaxis]\n"
     ]
    },
    {
     "data": {
      "image/png": "[encoded data removed]",
      "text/plain": [
       "<Figure size 432x288 with 1 Axes>"
      ]
     },
     "metadata": {
      "needs_background": "light"
     },
     "output_type": "display_data"
    }
   ],
   "source": [
    "xLabel = \"gender_n\"\n",
    "yLabel = 'weight'\n",
    "show_graph(df[xLabel], df[yLabel],xLabel, yLabel)\n",
    "# Видим, что медалей в некоторых странах женщины получают меньше, чем мужчины"
   ]
  },
  {
   "cell_type": "code",
   "execution_count": 6,
   "id": "fe39d4f9",
   "metadata": {},
   "outputs": [
    {
     "data": {
      "image/png": "[encoded data removed]",
      "text/plain": [
       "<Figure size 432x288 with 1 Axes>"
      ]
     },
     "metadata": {
      "needs_background": "light"
     },
     "output_type": "display_data"
    }
   ],
   "source": [
    "# Зададим для каждой страны общее количество медалей\n",
    "countries = df[['country', 'total_medals']].groupby(['country']).sum().reset_index()\n",
    "df[\"country_medals\"] = df[\"country\"].apply(lambda x: countries.loc[countries['country'] == x].values[0][1])\n",
    "yLabel = 'country_medals'\n",
    "show_graph(df[xLabel], df[yLabel],xLabel, yLabel)"
   ]
  },
  {
   "cell_type": "code",
   "execution_count": 7,
   "id": "dcffcf5c",
   "metadata": {},
   "outputs": [
    {
     "data": {
      "text/plain": [
       "0.848714069591528"
      ]
     },
     "execution_count": 7,
     "metadata": {},
     "output_type": "execute_result"
    }
   ],
   "source": [
    "# Начальное значение точности\n",
    "regres_accuracy(df, ['height','weight'], [\"gender_n\"])"
   ]
  },
  {
   "cell_type": "code",
   "execution_count": 8,
   "id": "1bc6d9ea",
   "metadata": {},
   "outputs": [
    {
     "data": {
      "text/plain": [
       "0.8638426626323752"
      ]
     },
     "execution_count": 8,
     "metadata": {},
     "output_type": "execute_result"
    }
   ],
   "source": [
    "# Добавим BMI\n",
    "regres_accuracy(df, ['height','weight','BMI'], [\"gender_n\"])"
   ]
  },
  {
   "cell_type": "code",
   "execution_count": 9,
   "id": "026fb3ff",
   "metadata": {},
   "outputs": [
    {
     "data": {
      "text/plain": [
       "0.8683812405446294"
      ]
     },
     "execution_count": 9,
     "metadata": {},
     "output_type": "execute_result"
    }
   ],
   "source": [
    "# Добавим country_medals\n",
    "regres_accuracy(df, ['height','weight','BMI','country_medals'], [\"gender_n\"])"
   ]
  },
  {
   "cell_type": "markdown",
   "id": "e15f4d47",
   "metadata": {},
   "source": [
    "Таким образом BMI и количество медалей страны повышают точность предсказывания пола участников"
   ]
  }
 ],
 "metadata": {
  "kernelspec": {
   "display_name": "Python 3 (ipykernel)",
   "language": "python",
   "name": "python3"
  },
  "language_info": {
   "codemirror_mode": {
    "name": "ipython",
    "version": 3
   },
   "file_extension": ".py",
   "mimetype": "text/x-python",
   "name": "python",
   "nbconvert_exporter": "python",
   "pygments_lexer": "ipython3",
   "version": "3.7.8"
  }
 },
 "nbformat": 4,
 "nbformat_minor": 5
}
